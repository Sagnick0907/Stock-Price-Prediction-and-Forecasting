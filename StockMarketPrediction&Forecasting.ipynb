{
 "cells": [
  {
   "cell_type": "markdown",
   "metadata": {},
   "source": [
    "### Stock Market Prediction And Forecasting Using Stacked LSTM"
   ]
  },
  {
   "cell_type": "code",
   "execution_count": 2,
   "metadata": {},
   "outputs": [],
   "source": [
    "### Data Collection\n",
    "import pandas_datareader as pdr\n",
    "key=\"dbb69f9d7b165d46474fca887d8d57bbec8ecf31\""
   ]
  },
  {
   "cell_type": "code",
   "execution_count": 3,
   "metadata": {},
   "outputs": [
    {
     "name": "stderr",
     "output_type": "stream",
     "text": [
      "C:\\Users\\91943\\anaconda3\\lib\\site-packages\\pandas_datareader\\tiingo.py:234: FutureWarning: In a future version of pandas all arguments of concat except for the argument 'objs' will be keyword-only\n",
      "  return pd.concat(dfs, self._concat_axis)\n"
     ]
    }
   ],
   "source": [
    "df = pdr.get_data_tiingo('AAPL', api_key=key)"
   ]
  },
  {
   "cell_type": "code",
   "execution_count": 4,
   "metadata": {},
   "outputs": [],
   "source": [
    "df.to_csv('AAPL.csv')"
   ]
  },
  {
   "cell_type": "code",
   "execution_count": 5,
   "metadata": {},
   "outputs": [],
   "source": [
    "import pandas as pd"
   ]
  },
  {
   "cell_type": "code",
   "execution_count": 6,
   "metadata": {},
   "outputs": [],
   "source": [
    "df=pd.read_csv('AAPL.csv')"
   ]
  },
  {
   "cell_type": "code",
   "execution_count": 7,
   "metadata": {},
   "outputs": [
    {
     "data": {
      "text/html": [
       "<div>\n",
       "<style scoped>\n",
       "    .dataframe tbody tr th:only-of-type {\n",
       "        vertical-align: middle;\n",
       "    }\n",
       "\n",
       "    .dataframe tbody tr th {\n",
       "        vertical-align: top;\n",
       "    }\n",
       "\n",
       "    .dataframe thead th {\n",
       "        text-align: right;\n",
       "    }\n",
       "</style>\n",
       "<table border=\"1\" class=\"dataframe\">\n",
       "  <thead>\n",
       "    <tr style=\"text-align: right;\">\n",
       "      <th></th>\n",
       "      <th>symbol</th>\n",
       "      <th>date</th>\n",
       "      <th>close</th>\n",
       "      <th>high</th>\n",
       "      <th>low</th>\n",
       "      <th>open</th>\n",
       "      <th>volume</th>\n",
       "      <th>adjClose</th>\n",
       "      <th>adjHigh</th>\n",
       "      <th>adjLow</th>\n",
       "      <th>adjOpen</th>\n",
       "      <th>adjVolume</th>\n",
       "      <th>divCash</th>\n",
       "      <th>splitFactor</th>\n",
       "    </tr>\n",
       "  </thead>\n",
       "  <tbody>\n",
       "    <tr>\n",
       "      <th>0</th>\n",
       "      <td>AAPL</td>\n",
       "      <td>2017-01-30 00:00:00+00:00</td>\n",
       "      <td>121.63</td>\n",
       "      <td>121.63</td>\n",
       "      <td>120.66</td>\n",
       "      <td>120.930</td>\n",
       "      <td>30377503</td>\n",
       "      <td>28.618590</td>\n",
       "      <td>28.618590</td>\n",
       "      <td>28.390356</td>\n",
       "      <td>28.453885</td>\n",
       "      <td>121510012</td>\n",
       "      <td>0.0</td>\n",
       "      <td>1.0</td>\n",
       "    </tr>\n",
       "    <tr>\n",
       "      <th>1</th>\n",
       "      <td>AAPL</td>\n",
       "      <td>2017-01-31 00:00:00+00:00</td>\n",
       "      <td>121.35</td>\n",
       "      <td>121.39</td>\n",
       "      <td>120.62</td>\n",
       "      <td>121.150</td>\n",
       "      <td>49200993</td>\n",
       "      <td>28.552708</td>\n",
       "      <td>28.562120</td>\n",
       "      <td>28.380945</td>\n",
       "      <td>28.505650</td>\n",
       "      <td>196803972</td>\n",
       "      <td>0.0</td>\n",
       "      <td>1.0</td>\n",
       "    </tr>\n",
       "    <tr>\n",
       "      <th>2</th>\n",
       "      <td>AAPL</td>\n",
       "      <td>2017-02-01 00:00:00+00:00</td>\n",
       "      <td>128.75</td>\n",
       "      <td>130.49</td>\n",
       "      <td>127.01</td>\n",
       "      <td>127.030</td>\n",
       "      <td>111985040</td>\n",
       "      <td>30.293870</td>\n",
       "      <td>30.703279</td>\n",
       "      <td>29.884462</td>\n",
       "      <td>29.889168</td>\n",
       "      <td>447940160</td>\n",
       "      <td>0.0</td>\n",
       "      <td>1.0</td>\n",
       "    </tr>\n",
       "    <tr>\n",
       "      <th>3</th>\n",
       "      <td>AAPL</td>\n",
       "      <td>2017-02-02 00:00:00+00:00</td>\n",
       "      <td>128.53</td>\n",
       "      <td>129.39</td>\n",
       "      <td>127.78</td>\n",
       "      <td>127.975</td>\n",
       "      <td>33710411</td>\n",
       "      <td>30.242106</td>\n",
       "      <td>30.444457</td>\n",
       "      <td>30.065637</td>\n",
       "      <td>30.111519</td>\n",
       "      <td>134841644</td>\n",
       "      <td>0.0</td>\n",
       "      <td>1.0</td>\n",
       "    </tr>\n",
       "    <tr>\n",
       "      <th>4</th>\n",
       "      <td>AAPL</td>\n",
       "      <td>2017-02-03 00:00:00+00:00</td>\n",
       "      <td>129.08</td>\n",
       "      <td>129.19</td>\n",
       "      <td>128.16</td>\n",
       "      <td>128.310</td>\n",
       "      <td>24507301</td>\n",
       "      <td>30.371517</td>\n",
       "      <td>30.397399</td>\n",
       "      <td>30.155048</td>\n",
       "      <td>30.190342</td>\n",
       "      <td>98029204</td>\n",
       "      <td>0.0</td>\n",
       "      <td>1.0</td>\n",
       "    </tr>\n",
       "  </tbody>\n",
       "</table>\n",
       "</div>"
      ],
      "text/plain": [
       "  symbol                       date   close    high     low     open  \\\n",
       "0   AAPL  2017-01-30 00:00:00+00:00  121.63  121.63  120.66  120.930   \n",
       "1   AAPL  2017-01-31 00:00:00+00:00  121.35  121.39  120.62  121.150   \n",
       "2   AAPL  2017-02-01 00:00:00+00:00  128.75  130.49  127.01  127.030   \n",
       "3   AAPL  2017-02-02 00:00:00+00:00  128.53  129.39  127.78  127.975   \n",
       "4   AAPL  2017-02-03 00:00:00+00:00  129.08  129.19  128.16  128.310   \n",
       "\n",
       "      volume   adjClose    adjHigh     adjLow    adjOpen  adjVolume  divCash  \\\n",
       "0   30377503  28.618590  28.618590  28.390356  28.453885  121510012      0.0   \n",
       "1   49200993  28.552708  28.562120  28.380945  28.505650  196803972      0.0   \n",
       "2  111985040  30.293870  30.703279  29.884462  29.889168  447940160      0.0   \n",
       "3   33710411  30.242106  30.444457  30.065637  30.111519  134841644      0.0   \n",
       "4   24507301  30.371517  30.397399  30.155048  30.190342   98029204      0.0   \n",
       "\n",
       "   splitFactor  \n",
       "0          1.0  \n",
       "1          1.0  \n",
       "2          1.0  \n",
       "3          1.0  \n",
       "4          1.0  "
      ]
     },
     "execution_count": 7,
     "metadata": {},
     "output_type": "execute_result"
    }
   ],
   "source": [
    "df.head()"
   ]
  },
  {
   "cell_type": "code",
   "execution_count": 8,
   "metadata": {},
   "outputs": [
    {
     "data": {
      "text/html": [
       "<div>\n",
       "<style scoped>\n",
       "    .dataframe tbody tr th:only-of-type {\n",
       "        vertical-align: middle;\n",
       "    }\n",
       "\n",
       "    .dataframe tbody tr th {\n",
       "        vertical-align: top;\n",
       "    }\n",
       "\n",
       "    .dataframe thead th {\n",
       "        text-align: right;\n",
       "    }\n",
       "</style>\n",
       "<table border=\"1\" class=\"dataframe\">\n",
       "  <thead>\n",
       "    <tr style=\"text-align: right;\">\n",
       "      <th></th>\n",
       "      <th>symbol</th>\n",
       "      <th>date</th>\n",
       "      <th>close</th>\n",
       "      <th>high</th>\n",
       "      <th>low</th>\n",
       "      <th>open</th>\n",
       "      <th>volume</th>\n",
       "      <th>adjClose</th>\n",
       "      <th>adjHigh</th>\n",
       "      <th>adjLow</th>\n",
       "      <th>adjOpen</th>\n",
       "      <th>adjVolume</th>\n",
       "      <th>divCash</th>\n",
       "      <th>splitFactor</th>\n",
       "    </tr>\n",
       "  </thead>\n",
       "  <tbody>\n",
       "    <tr>\n",
       "      <th>1254</th>\n",
       "      <td>AAPL</td>\n",
       "      <td>2022-01-21 00:00:00+00:00</td>\n",
       "      <td>162.41</td>\n",
       "      <td>166.3300</td>\n",
       "      <td>162.30</td>\n",
       "      <td>164.415</td>\n",
       "      <td>122848858</td>\n",
       "      <td>162.41</td>\n",
       "      <td>166.3300</td>\n",
       "      <td>162.30</td>\n",
       "      <td>164.415</td>\n",
       "      <td>122848858</td>\n",
       "      <td>0.0</td>\n",
       "      <td>1.0</td>\n",
       "    </tr>\n",
       "    <tr>\n",
       "      <th>1255</th>\n",
       "      <td>AAPL</td>\n",
       "      <td>2022-01-24 00:00:00+00:00</td>\n",
       "      <td>161.62</td>\n",
       "      <td>162.3000</td>\n",
       "      <td>154.70</td>\n",
       "      <td>160.020</td>\n",
       "      <td>162706686</td>\n",
       "      <td>161.62</td>\n",
       "      <td>162.3000</td>\n",
       "      <td>154.70</td>\n",
       "      <td>160.020</td>\n",
       "      <td>162706686</td>\n",
       "      <td>0.0</td>\n",
       "      <td>1.0</td>\n",
       "    </tr>\n",
       "    <tr>\n",
       "      <th>1256</th>\n",
       "      <td>AAPL</td>\n",
       "      <td>2022-01-25 00:00:00+00:00</td>\n",
       "      <td>159.78</td>\n",
       "      <td>162.7600</td>\n",
       "      <td>157.02</td>\n",
       "      <td>158.980</td>\n",
       "      <td>115798367</td>\n",
       "      <td>159.78</td>\n",
       "      <td>162.7600</td>\n",
       "      <td>157.02</td>\n",
       "      <td>158.980</td>\n",
       "      <td>115798367</td>\n",
       "      <td>0.0</td>\n",
       "      <td>1.0</td>\n",
       "    </tr>\n",
       "    <tr>\n",
       "      <th>1257</th>\n",
       "      <td>AAPL</td>\n",
       "      <td>2022-01-26 00:00:00+00:00</td>\n",
       "      <td>159.69</td>\n",
       "      <td>164.3894</td>\n",
       "      <td>157.82</td>\n",
       "      <td>163.500</td>\n",
       "      <td>108275308</td>\n",
       "      <td>159.69</td>\n",
       "      <td>164.3894</td>\n",
       "      <td>157.82</td>\n",
       "      <td>163.500</td>\n",
       "      <td>108275308</td>\n",
       "      <td>0.0</td>\n",
       "      <td>1.0</td>\n",
       "    </tr>\n",
       "    <tr>\n",
       "      <th>1258</th>\n",
       "      <td>AAPL</td>\n",
       "      <td>2022-01-27 00:00:00+00:00</td>\n",
       "      <td>159.22</td>\n",
       "      <td>163.8400</td>\n",
       "      <td>158.28</td>\n",
       "      <td>162.450</td>\n",
       "      <td>121954638</td>\n",
       "      <td>159.22</td>\n",
       "      <td>163.8400</td>\n",
       "      <td>158.28</td>\n",
       "      <td>162.450</td>\n",
       "      <td>121954638</td>\n",
       "      <td>0.0</td>\n",
       "      <td>1.0</td>\n",
       "    </tr>\n",
       "  </tbody>\n",
       "</table>\n",
       "</div>"
      ],
      "text/plain": [
       "     symbol                       date   close      high     low     open  \\\n",
       "1254   AAPL  2022-01-21 00:00:00+00:00  162.41  166.3300  162.30  164.415   \n",
       "1255   AAPL  2022-01-24 00:00:00+00:00  161.62  162.3000  154.70  160.020   \n",
       "1256   AAPL  2022-01-25 00:00:00+00:00  159.78  162.7600  157.02  158.980   \n",
       "1257   AAPL  2022-01-26 00:00:00+00:00  159.69  164.3894  157.82  163.500   \n",
       "1258   AAPL  2022-01-27 00:00:00+00:00  159.22  163.8400  158.28  162.450   \n",
       "\n",
       "         volume  adjClose   adjHigh  adjLow  adjOpen  adjVolume  divCash  \\\n",
       "1254  122848858    162.41  166.3300  162.30  164.415  122848858      0.0   \n",
       "1255  162706686    161.62  162.3000  154.70  160.020  162706686      0.0   \n",
       "1256  115798367    159.78  162.7600  157.02  158.980  115798367      0.0   \n",
       "1257  108275308    159.69  164.3894  157.82  163.500  108275308      0.0   \n",
       "1258  121954638    159.22  163.8400  158.28  162.450  121954638      0.0   \n",
       "\n",
       "      splitFactor  \n",
       "1254          1.0  \n",
       "1255          1.0  \n",
       "1256          1.0  \n",
       "1257          1.0  \n",
       "1258          1.0  "
      ]
     },
     "execution_count": 8,
     "metadata": {},
     "output_type": "execute_result"
    }
   ],
   "source": [
    "df.tail()"
   ]
  },
  {
   "cell_type": "code",
   "execution_count": 9,
   "metadata": {},
   "outputs": [],
   "source": [
    "## Selecting the 'close' column for our forecasting\n",
    "df1=df.reset_index()['close']"
   ]
  },
  {
   "cell_type": "code",
   "execution_count": 10,
   "metadata": {},
   "outputs": [
    {
     "data": {
      "text/plain": [
       "0       121.63\n",
       "1       121.35\n",
       "2       128.75\n",
       "3       128.53\n",
       "4       129.08\n",
       "         ...  \n",
       "1254    162.41\n",
       "1255    161.62\n",
       "1256    159.78\n",
       "1257    159.69\n",
       "1258    159.22\n",
       "Name: close, Length: 1259, dtype: float64"
      ]
     },
     "execution_count": 10,
     "metadata": {},
     "output_type": "execute_result"
    }
   ],
   "source": [
    "df1"
   ]
  },
  {
   "cell_type": "code",
   "execution_count": 14,
   "metadata": {},
   "outputs": [
    {
     "data": {
      "text/plain": [
       "[<matplotlib.lines.Line2D at 0x1f357305a30>]"
      ]
     },
     "execution_count": 14,
     "metadata": {},
     "output_type": "execute_result"
    },
    {
     "data": {
      "image/png": "[encoded data removed]",
      "text/plain": [
       "<Figure size 432x288 with 1 Axes>"
      ]
     },
     "metadata": {
      "needs_background": "light"
     },
     "output_type": "display_data"
    }
   ],
   "source": [
    "import matplotlib.pyplot as plt\n",
    "plt.plot(df1)"
   ]
  },
  {
   "cell_type": "code",
   "execution_count": 291,
   "metadata": {},
   "outputs": [],
   "source": [
    "### Note: LSTM are sensitive to the scale of the data. so we apply MinMax scaler "
   ]
  },
  {
   "cell_type": "code",
   "execution_count": 15,
   "metadata": {},
   "outputs": [],
   "source": [
    "import numpy as np"
   ]
  },
  {
   "cell_type": "code",
   "execution_count": 16,
   "metadata": {},
   "outputs": [],
   "source": [
    "from sklearn.preprocessing import MinMaxScaler\n",
    "scaler=MinMaxScaler(feature_range=(0,1))\n",
    "df1=scaler.fit_transform(np.array(df1).reshape(-1,1))"
   ]
  },
  {
   "cell_type": "code",
   "execution_count": 17,
   "metadata": {},
   "outputs": [
    {
     "name": "stdout",
     "output_type": "stream",
     "text": [
      "[[0.03704446]\n",
      " [0.03634314]\n",
      " [0.0548779 ]\n",
      " ...\n",
      " [0.13259862]\n",
      " [0.1323732 ]\n",
      " [0.13119599]]\n"
     ]
    }
   ],
   "source": [
    "print(df1)"
   ]
  },
  {
   "cell_type": "code",
   "execution_count": 18,
   "metadata": {},
   "outputs": [],
   "source": [
    "##splitting Dataset into train and test split\n",
    "training_size=int(len(df1)*0.65)\n",
    "test_size=len(df1)-training_size\n",
    "train_data,test_data=df1[0:training_size,:],df1[training_size:len(df1),:1]"
   ]
  },
  {
   "cell_type": "code",
   "execution_count": 19,
   "metadata": {},
   "outputs": [
    {
     "data": {
      "text/plain": [
       "(818, 441)"
      ]
     },
     "execution_count": 19,
     "metadata": {},
     "output_type": "execute_result"
    }
   ],
   "source": [
    "training_size,test_size"
   ]
  },
  {
   "cell_type": "code",
   "execution_count": 21,
   "metadata": {},
   "outputs": [
    {
     "data": {
      "text/plain": [
       "array([[0.03704446],\n",
       "       [0.03634314],\n",
       "       [0.0548779 ],\n",
       "       [0.05432686],\n",
       "       [0.05570445]])"
      ]
     },
     "execution_count": 21,
     "metadata": {},
     "output_type": "execute_result"
    }
   ],
   "source": [
    "train_data[0:5,]"
   ]
  },
  {
   "cell_type": "code",
   "execution_count": 22,
   "metadata": {},
   "outputs": [],
   "source": [
    "import numpy\n",
    "# convert an array of values into a Dataset matrix\n",
    "def create_dataset(dataset, time_step=1):\n",
    "\tdataX, dataY = [], []\n",
    "\tfor i in range(len(dataset)-time_step-1):\n",
    "\t\ta = dataset[i:(i+time_step), 0]   ###i=0, dataX:0,1,2,3-----99   dataY:100 \n",
    "\t\tdataX.append(a)\n",
    "\t\tdataY.append(dataset[i + time_step, 0])\n",
    "\treturn numpy.array(dataX), numpy.array(dataY)"
   ]
  },
  {
   "cell_type": "code",
   "execution_count": 23,
   "metadata": {},
   "outputs": [],
   "source": [
    "# reshape into X=t,t+1,t+2,t+3 and Y=t+4\n",
    "time_step = 100\n",
    "X_train, y_train = create_dataset(train_data, time_step)\n",
    "X_test, ytest = create_dataset(test_data, time_step)"
   ]
  },
  {
   "cell_type": "code",
   "execution_count": 24,
   "metadata": {},
   "outputs": [
    {
     "name": "stdout",
     "output_type": "stream",
     "text": [
      "(717, 100)\n",
      "(717,)\n"
     ]
    },
    {
     "data": {
      "text/plain": [
       "(None, None)"
      ]
     },
     "execution_count": 24,
     "metadata": {},
     "output_type": "execute_result"
    }
   ],
   "source": [
    "print(X_train.shape), print(y_train.shape)"
   ]
  },
  {
   "cell_type": "code",
   "execution_count": 25,
   "metadata": {},
   "outputs": [
    {
     "name": "stdout",
     "output_type": "stream",
     "text": [
      "(340, 100)\n",
      "(340,)\n"
     ]
    },
    {
     "data": {
      "text/plain": [
       "(None, None)"
      ]
     },
     "execution_count": 25,
     "metadata": {},
     "output_type": "execute_result"
    }
   ],
   "source": [
    "print(X_test.shape), print(ytest.shape)"
   ]
  },
  {
   "cell_type": "code",
   "execution_count": 26,
   "metadata": {},
   "outputs": [],
   "source": [
    "# Reshape input to be [samples, time steps, features] which is required for LSTM\n",
    "X_train =X_train.reshape(X_train.shape[0],X_train.shape[1] , 1)\n",
    "X_test = X_test.reshape(X_test.shape[0],X_test.shape[1] , 1)"
   ]
  },
  {
   "cell_type": "code",
   "execution_count": 27,
   "metadata": {},
   "outputs": [],
   "source": [
    "### Create the Stacked LSTM model\n",
    "from tensorflow.keras.models import Sequential\n",
    "from tensorflow.keras.layers import Dense\n",
    "from tensorflow.keras.layers import LSTM"
   ]
  },
  {
   "cell_type": "code",
   "execution_count": 28,
   "metadata": {},
   "outputs": [],
   "source": [
    "model=Sequential()\n",
    "model.add(LSTM(50,return_sequences=True,input_shape=(100,1)))\n",
    "model.add(LSTM(50,return_sequences=True))\n",
    "model.add(LSTM(50))\n",
    "model.add(Dense(1))\n",
    "model.compile(loss='mean_squared_error',optimizer='adam')\n"
   ]
  },
  {
   "cell_type": "code",
   "execution_count": 29,
   "metadata": {},
   "outputs": [
    {
     "name": "stdout",
     "output_type": "stream",
     "text": [
      "Model: \"sequential\"\n",
      "_________________________________________________________________\n",
      " Layer (type)                Output Shape              Param #   \n",
      "=================================================================\n",
      " lstm (LSTM)                 (None, 100, 50)           10400     \n",
      "                                                                 \n",
      " lstm_1 (LSTM)               (None, 100, 50)           20200     \n",
      "                                                                 \n",
      " lstm_2 (LSTM)               (None, 50)                20200     \n",
      "                                                                 \n",
      " dense (Dense)               (None, 1)                 51        \n",
      "                                                                 \n",
      "=================================================================\n",
      "Total params: 50,851\n",
      "Trainable params: 50,851\n",
      "Non-trainable params: 0\n",
      "_________________________________________________________________\n"
     ]
    }
   ],
   "source": [
    "model.summary()"
   ]
  },
  {
   "cell_type": "code",
   "execution_count": 306,
   "metadata": {},
   "outputs": [
    {
     "name": "stdout",
     "output_type": "stream",
     "text": [
      "Model: \"sequential_2\"\n",
      "_________________________________________________________________\n",
      "Layer (type)                 Output Shape              Param #   \n",
      "=================================================================\n",
      "lstm_4 (LSTM)                (None, 100, 50)           10400     \n",
      "_________________________________________________________________\n",
      "lstm_5 (LSTM)                (None, 100, 50)           20200     \n",
      "_________________________________________________________________\n",
      "lstm_6 (LSTM)                (None, 50)                20200     \n",
      "_________________________________________________________________\n",
      "dense_2 (Dense)              (None, 1)                 51        \n",
      "=================================================================\n",
      "Total params: 50,851\n",
      "Trainable params: 50,851\n",
      "Non-trainable params: 0\n",
      "_________________________________________________________________\n"
     ]
    }
   ],
   "source": [
    "model.summary()"
   ]
  },
  {
   "cell_type": "code",
   "execution_count": 30,
   "metadata": {},
   "outputs": [
    {
     "name": "stdout",
     "output_type": "stream",
     "text": [
      "Epoch 1/100\n",
      "12/12 [==============================] - 5s 196ms/step - loss: 0.0157 - val_loss: 0.0019\n",
      "Epoch 2/100\n",
      "12/12 [==============================] - 2s 141ms/step - loss: 0.0039 - val_loss: 0.0053\n",
      "Epoch 3/100\n",
      "12/12 [==============================] - 2s 140ms/step - loss: 0.0017 - val_loss: 0.0028\n",
      "Epoch 4/100\n",
      "12/12 [==============================] - 2s 142ms/step - loss: 0.0012 - val_loss: 0.0013\n",
      "Epoch 5/100\n",
      "12/12 [==============================] - 2s 141ms/step - loss: 0.0011 - val_loss: 9.6323e-04\n",
      "Epoch 6/100\n",
      "12/12 [==============================] - 2s 141ms/step - loss: 9.1964e-04 - val_loss: 9.1259e-04\n",
      "Epoch 7/100\n",
      "12/12 [==============================] - 2s 136ms/step - loss: 8.5536e-04 - val_loss: 7.1605e-04\n",
      "Epoch 8/100\n",
      "12/12 [==============================] - 2s 133ms/step - loss: 8.2182e-04 - val_loss: 5.1953e-04\n",
      "Epoch 9/100\n",
      "12/12 [==============================] - 2s 134ms/step - loss: 7.7089e-04 - val_loss: 3.9140e-04\n",
      "Epoch 10/100\n",
      "12/12 [==============================] - 2s 141ms/step - loss: 7.5877e-04 - val_loss: 2.9554e-04\n",
      "Epoch 11/100\n",
      "12/12 [==============================] - 2s 143ms/step - loss: 6.7287e-04 - val_loss: 2.4639e-04\n",
      "Epoch 12/100\n",
      "12/12 [==============================] - 2s 154ms/step - loss: 7.1233e-04 - val_loss: 2.9645e-04\n",
      "Epoch 13/100\n",
      "12/12 [==============================] - 2s 138ms/step - loss: 5.9099e-04 - val_loss: 4.4259e-04\n",
      "Epoch 14/100\n",
      "12/12 [==============================] - 2s 136ms/step - loss: 5.3286e-04 - val_loss: 7.0735e-04\n",
      "Epoch 15/100\n",
      "12/12 [==============================] - 2s 148ms/step - loss: 5.1085e-04 - val_loss: 8.1885e-04\n",
      "Epoch 16/100\n",
      "12/12 [==============================] - 2s 136ms/step - loss: 4.6691e-04 - val_loss: 8.3095e-04\n",
      "Epoch 17/100\n",
      "12/12 [==============================] - 2s 137ms/step - loss: 4.8725e-04 - val_loss: 8.6838e-04\n",
      "Epoch 18/100\n",
      "12/12 [==============================] - 2s 144ms/step - loss: 4.6511e-04 - val_loss: 7.5792e-04\n",
      "Epoch 19/100\n",
      "12/12 [==============================] - 2s 143ms/step - loss: 4.3993e-04 - val_loss: 7.5109e-04\n",
      "Epoch 20/100\n",
      "12/12 [==============================] - 2s 139ms/step - loss: 4.7893e-04 - val_loss: 7.3933e-04\n",
      "Epoch 21/100\n",
      "12/12 [==============================] - 2s 139ms/step - loss: 4.5604e-04 - val_loss: 5.8240e-04\n",
      "Epoch 22/100\n",
      "12/12 [==============================] - 2s 133ms/step - loss: 4.3923e-04 - val_loss: 5.0119e-04\n",
      "Epoch 23/100\n",
      "12/12 [==============================] - 2s 134ms/step - loss: 4.1380e-04 - val_loss: 5.8895e-04\n",
      "Epoch 24/100\n",
      "12/12 [==============================] - 2s 134ms/step - loss: 4.0630e-04 - val_loss: 5.6816e-04\n",
      "Epoch 25/100\n",
      "12/12 [==============================] - 2s 131ms/step - loss: 4.1720e-04 - val_loss: 4.7695e-04\n",
      "Epoch 26/100\n",
      "12/12 [==============================] - 2s 136ms/step - loss: 5.0806e-04 - val_loss: 5.1888e-04\n",
      "Epoch 27/100\n",
      "12/12 [==============================] - 2s 132ms/step - loss: 5.4902e-04 - val_loss: 3.6296e-04\n",
      "Epoch 28/100\n",
      "12/12 [==============================] - 2s 136ms/step - loss: 4.4939e-04 - val_loss: 3.9449e-04\n",
      "Epoch 29/100\n",
      "12/12 [==============================] - 2s 133ms/step - loss: 3.8750e-04 - val_loss: 4.7033e-04\n",
      "Epoch 30/100\n",
      "12/12 [==============================] - 2s 132ms/step - loss: 4.1490e-04 - val_loss: 5.3117e-04\n",
      "Epoch 31/100\n",
      "12/12 [==============================] - 2s 134ms/step - loss: 3.8512e-04 - val_loss: 5.5061e-04\n",
      "Epoch 32/100\n",
      "12/12 [==============================] - 2s 134ms/step - loss: 4.0269e-04 - val_loss: 4.2725e-04\n",
      "Epoch 33/100\n",
      "12/12 [==============================] - 2s 133ms/step - loss: 3.8329e-04 - val_loss: 3.3889e-04\n",
      "Epoch 34/100\n",
      "12/12 [==============================] - 2s 134ms/step - loss: 3.8937e-04 - val_loss: 4.3897e-04\n",
      "Epoch 35/100\n",
      "12/12 [==============================] - 2s 133ms/step - loss: 3.7667e-04 - val_loss: 4.5515e-04\n",
      "Epoch 36/100\n",
      "12/12 [==============================] - 2s 133ms/step - loss: 4.1071e-04 - val_loss: 5.4797e-04\n",
      "Epoch 37/100\n",
      "12/12 [==============================] - 2s 135ms/step - loss: 3.8050e-04 - val_loss: 4.6105e-04\n",
      "Epoch 38/100\n",
      "12/12 [==============================] - 2s 136ms/step - loss: 3.5229e-04 - val_loss: 4.0408e-04\n",
      "Epoch 39/100\n",
      "12/12 [==============================] - 2s 132ms/step - loss: 3.7959e-04 - val_loss: 4.5420e-04\n",
      "Epoch 40/100\n",
      "12/12 [==============================] - 2s 133ms/step - loss: 3.8251e-04 - val_loss: 4.0981e-04\n",
      "Epoch 41/100\n",
      "12/12 [==============================] - 2s 131ms/step - loss: 3.6360e-04 - val_loss: 4.3229e-04\n",
      "Epoch 42/100\n",
      "12/12 [==============================] - 2s 132ms/step - loss: 3.6042e-04 - val_loss: 4.3704e-04\n",
      "Epoch 43/100\n",
      "12/12 [==============================] - 2s 132ms/step - loss: 3.8685e-04 - val_loss: 3.6726e-04\n",
      "Epoch 44/100\n",
      "12/12 [==============================] - 2s 131ms/step - loss: 4.1829e-04 - val_loss: 3.9010e-04\n",
      "Epoch 45/100\n",
      "12/12 [==============================] - 2s 134ms/step - loss: 3.4574e-04 - val_loss: 3.7385e-04\n",
      "Epoch 46/100\n",
      "12/12 [==============================] - 2s 134ms/step - loss: 3.7465e-04 - val_loss: 4.4190e-04\n",
      "Epoch 47/100\n",
      "12/12 [==============================] - 2s 136ms/step - loss: 3.7071e-04 - val_loss: 3.5035e-04\n",
      "Epoch 48/100\n",
      "12/12 [==============================] - 2s 133ms/step - loss: 4.8333e-04 - val_loss: 4.1613e-04\n",
      "Epoch 49/100\n",
      "12/12 [==============================] - 2s 131ms/step - loss: 3.2929e-04 - val_loss: 3.8614e-04\n",
      "Epoch 50/100\n",
      "12/12 [==============================] - 2s 134ms/step - loss: 3.4518e-04 - val_loss: 3.2917e-04\n",
      "Epoch 51/100\n",
      "12/12 [==============================] - 2s 133ms/step - loss: 4.5237e-04 - val_loss: 3.3829e-04\n",
      "Epoch 52/100\n",
      "12/12 [==============================] - 2s 143ms/step - loss: 4.8595e-04 - val_loss: 2.5721e-04\n",
      "Epoch 53/100\n",
      "12/12 [==============================] - 2s 148ms/step - loss: 4.7654e-04 - val_loss: 2.5821e-04\n",
      "Epoch 54/100\n",
      "12/12 [==============================] - 2s 138ms/step - loss: 4.0022e-04 - val_loss: 2.7173e-04\n",
      "Epoch 55/100\n",
      "12/12 [==============================] - 2s 136ms/step - loss: 3.4710e-04 - val_loss: 2.9695e-04\n",
      "Epoch 56/100\n",
      "12/12 [==============================] - 2s 135ms/step - loss: 3.7396e-04 - val_loss: 3.7978e-04\n",
      "Epoch 57/100\n",
      "12/12 [==============================] - 2s 137ms/step - loss: 3.2404e-04 - val_loss: 3.3286e-04\n",
      "Epoch 58/100\n",
      "12/12 [==============================] - 2s 142ms/step - loss: 3.5719e-04 - val_loss: 3.4490e-04\n",
      "Epoch 59/100\n",
      "12/12 [==============================] - 2s 142ms/step - loss: 3.7270e-04 - val_loss: 3.1199e-04\n",
      "Epoch 60/100\n",
      "12/12 [==============================] - 2s 141ms/step - loss: 3.2497e-04 - val_loss: 3.1409e-04\n",
      "Epoch 61/100\n",
      "12/12 [==============================] - 2s 139ms/step - loss: 3.3211e-04 - val_loss: 3.0231e-04\n",
      "Epoch 62/100\n",
      "12/12 [==============================] - 2s 136ms/step - loss: 3.3313e-04 - val_loss: 3.6755e-04\n",
      "Epoch 63/100\n",
      "12/12 [==============================] - 2s 135ms/step - loss: 3.4643e-04 - val_loss: 3.4203e-04\n",
      "Epoch 64/100\n",
      "12/12 [==============================] - 2s 133ms/step - loss: 3.2347e-04 - val_loss: 3.0682e-04\n",
      "Epoch 65/100\n",
      "12/12 [==============================] - 2s 136ms/step - loss: 3.3597e-04 - val_loss: 3.8202e-04\n",
      "Epoch 66/100\n",
      "12/12 [==============================] - 2s 134ms/step - loss: 3.1034e-04 - val_loss: 3.3491e-04\n",
      "Epoch 67/100\n",
      "12/12 [==============================] - 2s 135ms/step - loss: 3.0611e-04 - val_loss: 3.0672e-04\n",
      "Epoch 68/100\n",
      "12/12 [==============================] - 2s 135ms/step - loss: 3.0819e-04 - val_loss: 2.6612e-04\n",
      "Epoch 69/100\n",
      "12/12 [==============================] - 2s 133ms/step - loss: 3.2752e-04 - val_loss: 3.1037e-04\n",
      "Epoch 70/100\n",
      "12/12 [==============================] - 2s 140ms/step - loss: 3.0802e-04 - val_loss: 2.8828e-04\n",
      "Epoch 71/100\n",
      "12/12 [==============================] - 2s 143ms/step - loss: 3.3224e-04 - val_loss: 2.7873e-04\n",
      "Epoch 72/100\n",
      "12/12 [==============================] - 2s 144ms/step - loss: 3.0667e-04 - val_loss: 2.6798e-04\n",
      "Epoch 73/100\n",
      "12/12 [==============================] - 2s 138ms/step - loss: 3.1607e-04 - val_loss: 2.7364e-04\n",
      "Epoch 74/100\n",
      "12/12 [==============================] - 2s 141ms/step - loss: 3.1486e-04 - val_loss: 3.1255e-04\n",
      "Epoch 75/100\n",
      "12/12 [==============================] - 2s 140ms/step - loss: 2.8861e-04 - val_loss: 2.8236e-04\n"
     ]
    },
    {
     "name": "stdout",
     "output_type": "stream",
     "text": [
      "Epoch 76/100\n",
      "12/12 [==============================] - 2s 135ms/step - loss: 2.8855e-04 - val_loss: 2.8772e-04\n",
      "Epoch 77/100\n",
      "12/12 [==============================] - 2s 134ms/step - loss: 2.8706e-04 - val_loss: 2.6504e-04\n",
      "Epoch 78/100\n",
      "12/12 [==============================] - 2s 135ms/step - loss: 3.1070e-04 - val_loss: 2.4767e-04\n",
      "Epoch 79/100\n",
      "12/12 [==============================] - 2s 138ms/step - loss: 3.0830e-04 - val_loss: 2.1404e-04\n",
      "Epoch 80/100\n",
      "12/12 [==============================] - 2s 138ms/step - loss: 2.9686e-04 - val_loss: 3.2362e-04\n",
      "Epoch 81/100\n",
      "12/12 [==============================] - 2s 136ms/step - loss: 2.9803e-04 - val_loss: 2.4956e-04\n",
      "Epoch 82/100\n",
      "12/12 [==============================] - 2s 138ms/step - loss: 3.1804e-04 - val_loss: 2.5058e-04\n",
      "Epoch 83/100\n",
      "12/12 [==============================] - 2s 135ms/step - loss: 3.4294e-04 - val_loss: 2.8743e-04\n",
      "Epoch 84/100\n",
      "12/12 [==============================] - 2s 141ms/step - loss: 3.4311e-04 - val_loss: 1.8999e-04\n",
      "Epoch 85/100\n",
      "12/12 [==============================] - 2s 136ms/step - loss: 2.8871e-04 - val_loss: 2.8386e-04\n",
      "Epoch 86/100\n",
      "12/12 [==============================] - 2s 134ms/step - loss: 2.7664e-04 - val_loss: 2.3603e-04\n",
      "Epoch 87/100\n",
      "12/12 [==============================] - 2s 135ms/step - loss: 2.9759e-04 - val_loss: 2.3518e-04\n",
      "Epoch 88/100\n",
      "12/12 [==============================] - 2s 132ms/step - loss: 2.9556e-04 - val_loss: 2.7708e-04\n",
      "Epoch 89/100\n",
      "12/12 [==============================] - 2s 136ms/step - loss: 3.1230e-04 - val_loss: 2.1621e-04\n",
      "Epoch 90/100\n",
      "12/12 [==============================] - 2s 137ms/step - loss: 2.7130e-04 - val_loss: 2.5680e-04\n",
      "Epoch 91/100\n",
      "12/12 [==============================] - 2s 135ms/step - loss: 2.7789e-04 - val_loss: 2.2212e-04\n",
      "Epoch 92/100\n",
      "12/12 [==============================] - 2s 136ms/step - loss: 2.8349e-04 - val_loss: 3.1488e-04\n",
      "Epoch 93/100\n",
      "12/12 [==============================] - 2s 139ms/step - loss: 2.7687e-04 - val_loss: 2.2731e-04\n",
      "Epoch 94/100\n",
      "12/12 [==============================] - 2s 138ms/step - loss: 2.8658e-04 - val_loss: 2.2313e-04\n",
      "Epoch 95/100\n",
      "12/12 [==============================] - 2s 133ms/step - loss: 3.6411e-04 - val_loss: 2.4430e-04\n",
      "Epoch 96/100\n",
      "12/12 [==============================] - 2s 133ms/step - loss: 3.3368e-04 - val_loss: 2.9160e-04\n",
      "Epoch 97/100\n",
      "12/12 [==============================] - 2s 134ms/step - loss: 3.5359e-04 - val_loss: 2.2712e-04\n",
      "Epoch 98/100\n",
      "12/12 [==============================] - 2s 134ms/step - loss: 3.7626e-04 - val_loss: 1.7176e-04\n",
      "Epoch 99/100\n",
      "12/12 [==============================] - 2s 144ms/step - loss: 3.4215e-04 - val_loss: 2.4000e-04\n",
      "Epoch 100/100\n",
      "12/12 [==============================] - 2s 146ms/step - loss: 2.8003e-04 - val_loss: 1.9476e-04\n"
     ]
    },
    {
     "data": {
      "text/plain": [
       "<keras.callbacks.History at 0x1f3617c1e50>"
      ]
     },
     "execution_count": 30,
     "metadata": {},
     "output_type": "execute_result"
    }
   ],
   "source": [
    "model.fit(X_train,y_train,validation_data=(X_test,ytest),epochs=100,batch_size=64,verbose=1)"
   ]
  },
  {
   "cell_type": "code",
   "execution_count": 31,
   "metadata": {},
   "outputs": [
    {
     "data": {
      "text/plain": [
       "'2.7.0'"
      ]
     },
     "execution_count": 31,
     "metadata": {},
     "output_type": "execute_result"
    }
   ],
   "source": [
    "import tensorflow as tf\n",
    "tf.__version__"
   ]
  },
  {
   "cell_type": "code",
   "execution_count": 32,
   "metadata": {},
   "outputs": [],
   "source": [
    "### Lets Do the prediction and check Performance Metrics\n",
    "train_predict=model.predict(X_train)\n",
    "test_predict=model.predict(X_test)"
   ]
  },
  {
   "cell_type": "code",
   "execution_count": 33,
   "metadata": {},
   "outputs": [],
   "source": [
    "##Transform back to original form\n",
    "train_predict=scaler.inverse_transform(train_predict)\n",
    "test_predict=scaler.inverse_transform(test_predict)"
   ]
  },
  {
   "cell_type": "code",
   "execution_count": 34,
   "metadata": {},
   "outputs": [
    {
     "data": {
      "text/plain": [
       "205.94626188200397"
      ]
     },
     "execution_count": 34,
     "metadata": {},
     "output_type": "execute_result"
    }
   ],
   "source": [
    "### Calculate RMSE performance metrics\n",
    "import math\n",
    "from sklearn.metrics import mean_squared_error\n",
    "math.sqrt(mean_squared_error(y_train,train_predict))"
   ]
  },
  {
   "cell_type": "code",
   "execution_count": 35,
   "metadata": {},
   "outputs": [
    {
     "data": {
      "text/plain": [
       "141.12779176881622"
      ]
     },
     "execution_count": 35,
     "metadata": {},
     "output_type": "execute_result"
    }
   ],
   "source": [
    "### Test Data RMSE\n",
    "math.sqrt(mean_squared_error(ytest,test_predict))"
   ]
  },
  {
   "cell_type": "code",
   "execution_count": 55,
   "metadata": {},
   "outputs": [
    {
     "data": {
      "image/png": "[encoded data removed]",
      "text/plain": [
       "<Figure size 1080x432 with 1 Axes>"
      ]
     },
     "metadata": {
      "needs_background": "light"
     },
     "output_type": "display_data"
    }
   ],
   "source": [
    "### Plotting Data\n",
    "# shift train predictions for plotting\n",
    "look_back=100\n",
    "trainPredictPlot = numpy.empty_like(df1)\n",
    "trainPredictPlot[:, :] = np.nan\n",
    "trainPredictPlot[look_back:len(train_predict)+look_back, :] = train_predict\n",
    "# shift test predictions for plotting\n",
    "testPredictPlot = numpy.empty_like(df1)\n",
    "testPredictPlot[:, :] = numpy.nan\n",
    "testPredictPlot[len(train_predict)+(look_back*2)+1:len(df1)-1, :] = test_predict\n",
    "# plot baseline and predictions\n",
    "plt.figure(figsize=(15,6))\n",
    "plt.plot(scaler.inverse_transform(df1), '-b', label='Train Data')\n",
    "plt.plot(trainPredictPlot,'--r', label='Train Predict',linewidth=2.0)\n",
    "plt.plot(testPredictPlot,'g', label='Test Predict', linewidth=2.0)\n",
    "leg = plt.legend();\n",
    "plt.show()"
   ]
  },
  {
   "cell_type": "markdown",
   "metadata": {},
   "source": [
    "### Predicting Next 30 days"
   ]
  },
  {
   "cell_type": "code",
   "execution_count": 56,
   "metadata": {},
   "outputs": [
    {
     "data": {
      "text/plain": [
       "441"
      ]
     },
     "execution_count": 56,
     "metadata": {},
     "output_type": "execute_result"
    }
   ],
   "source": [
    "len(test_data)"
   ]
  },
  {
   "cell_type": "code",
   "execution_count": 57,
   "metadata": {},
   "outputs": [
    {
     "data": {
      "text/plain": [
       "(1, 100)"
      ]
     },
     "execution_count": 57,
     "metadata": {},
     "output_type": "execute_result"
    }
   ],
   "source": [
    "x_input=test_data[341:].reshape(1,-1)\n",
    "x_input.shape"
   ]
  },
  {
   "cell_type": "code",
   "execution_count": 58,
   "metadata": {},
   "outputs": [],
   "source": [
    "temp_input=list(x_input)\n",
    "temp_input=temp_input[0].tolist()"
   ]
  },
  {
   "cell_type": "code",
   "execution_count": 60,
   "metadata": {},
   "outputs": [
    {
     "data": {
      "text/plain": [
       "[0.12485911083281148,\n",
       " 0.12090169067000628,\n",
       " 0.11829680651221036,\n",
       " 0.1055228553537883,\n",
       " 0.10697557921102063]"
      ]
     },
     "execution_count": 60,
     "metadata": {},
     "output_type": "execute_result"
    }
   ],
   "source": [
    "temp_input[0:5]"
   ]
  },
  {
   "cell_type": "code",
   "execution_count": 61,
   "metadata": {},
   "outputs": [
    {
     "name": "stdout",
     "output_type": "stream",
     "text": [
      "[0.14201552]\n",
      "101\n",
      "1 day input [0.12090169 0.11829681 0.10552286 0.10697558 0.10339386 0.10567314\n",
      " 0.10507201 0.09823419 0.09041954 0.09164684 0.0977082  0.10016281\n",
      " 0.10038823 0.09650595 0.0878397  0.09014402 0.08681277 0.08969317\n",
      " 0.08090169 0.08583594 0.08806512 0.09129618 0.09031935 0.09009393\n",
      " 0.08683782 0.085335   0.09247339 0.09517846 0.09946149 0.10499687\n",
      " 0.10624922 0.10680025 0.10482154 0.10469631 0.1063995  0.10522229\n",
      " 0.11453976 0.10760175 0.10549781 0.10815279 0.11183469 0.1105072\n",
      " 0.1113087  0.10920476 0.1101315  0.10289292 0.10276769 0.10807765\n",
      " 0.10810269 0.11060739 0.11684408 0.12781465 0.13452724 0.13570445\n",
      " 0.13668128 0.13800877 0.12515967 0.13375078 0.14642455 0.14509706\n",
      " 0.14256731 0.1377583  0.14647464 0.16115216 0.17092048 0.16961803\n",
      " 0.181866   0.17257358 0.16904195 0.18149029 0.16385723 0.16105197\n",
      " 0.15757044 0.16568566 0.17232311 0.17392611 0.18407013 0.18146525\n",
      " 0.18169067 0.17873513 0.17715717 0.18827802 0.18249217 0.17051972\n",
      " 0.16320601 0.16363181 0.1636819  0.17092048 0.17204759 0.1636819\n",
      " 0.16588604 0.15769568 0.14875391 0.14444584 0.13918597 0.13720726\n",
      " 0.13259862 0.1323732  0.13119599 0.14201552]\n",
      "1 day output [[0.13978207]]\n",
      "2 day input [0.11829681 0.10552286 0.10697558 0.10339386 0.10567314 0.10507201\n",
      " 0.09823419 0.09041954 0.09164684 0.0977082  0.10016281 0.10038823\n",
      " 0.09650595 0.0878397  0.09014402 0.08681277 0.08969317 0.08090169\n",
      " 0.08583594 0.08806512 0.09129618 0.09031935 0.09009393 0.08683782\n",
      " 0.085335   0.09247339 0.09517846 0.09946149 0.10499687 0.10624922\n",
      " 0.10680025 0.10482154 0.10469631 0.1063995  0.10522229 0.11453976\n",
      " 0.10760175 0.10549781 0.10815279 0.11183469 0.1105072  0.1113087\n",
      " 0.10920476 0.1101315  0.10289292 0.10276769 0.10807765 0.10810269\n",
      " 0.11060739 0.11684408 0.12781465 0.13452724 0.13570445 0.13668128\n",
      " 0.13800877 0.12515967 0.13375078 0.14642455 0.14509706 0.14256731\n",
      " 0.1377583  0.14647464 0.16115216 0.17092048 0.16961803 0.181866\n",
      " 0.17257358 0.16904195 0.18149029 0.16385723 0.16105197 0.15757044\n",
      " 0.16568566 0.17232311 0.17392611 0.18407013 0.18146525 0.18169067\n",
      " 0.17873513 0.17715717 0.18827802 0.18249217 0.17051972 0.16320601\n",
      " 0.16363181 0.1636819  0.17092048 0.17204759 0.1636819  0.16588604\n",
      " 0.15769568 0.14875391 0.14444584 0.13918597 0.13720726 0.13259862\n",
      " 0.1323732  0.13119599 0.14201552 0.13978207]\n",
      "2 day output [[0.1387915]]\n",
      "3 day input [0.10552286 0.10697558 0.10339386 0.10567314 0.10507201 0.09823419\n",
      " 0.09041954 0.09164684 0.0977082  0.10016281 0.10038823 0.09650595\n",
      " 0.0878397  0.09014402 0.08681277 0.08969317 0.08090169 0.08583594\n",
      " 0.08806512 0.09129618 0.09031935 0.09009393 0.08683782 0.085335\n",
      " 0.09247339 0.09517846 0.09946149 0.10499687 0.10624922 0.10680025\n",
      " 0.10482154 0.10469631 0.1063995  0.10522229 0.11453976 0.10760175\n",
      " 0.10549781 0.10815279 0.11183469 0.1105072  0.1113087  0.10920476\n",
      " 0.1101315  0.10289292 0.10276769 0.10807765 0.10810269 0.11060739\n",
      " 0.11684408 0.12781465 0.13452724 0.13570445 0.13668128 0.13800877\n",
      " 0.12515967 0.13375078 0.14642455 0.14509706 0.14256731 0.1377583\n",
      " 0.14647464 0.16115216 0.17092048 0.16961803 0.181866   0.17257358\n",
      " 0.16904195 0.18149029 0.16385723 0.16105197 0.15757044 0.16568566\n",
      " 0.17232311 0.17392611 0.18407013 0.18146525 0.18169067 0.17873513\n",
      " 0.17715717 0.18827802 0.18249217 0.17051972 0.16320601 0.16363181\n",
      " 0.1636819  0.17092048 0.17204759 0.1636819  0.16588604 0.15769568\n",
      " 0.14875391 0.14444584 0.13918597 0.13720726 0.13259862 0.1323732\n",
      " 0.13119599 0.14201552 0.13978207 0.1387915 ]\n",
      "3 day output [[0.13868538]]\n",
      "4 day input [0.10697558 0.10339386 0.10567314 0.10507201 0.09823419 0.09041954\n",
      " 0.09164684 0.0977082  0.10016281 0.10038823 0.09650595 0.0878397\n",
      " 0.09014402 0.08681277 0.08969317 0.08090169 0.08583594 0.08806512\n",
      " 0.09129618 0.09031935 0.09009393 0.08683782 0.085335   0.09247339\n",
      " 0.09517846 0.09946149 0.10499687 0.10624922 0.10680025 0.10482154\n",
      " 0.10469631 0.1063995  0.10522229 0.11453976 0.10760175 0.10549781\n",
      " 0.10815279 0.11183469 0.1105072  0.1113087  0.10920476 0.1101315\n",
      " 0.10289292 0.10276769 0.10807765 0.10810269 0.11060739 0.11684408\n",
      " 0.12781465 0.13452724 0.13570445 0.13668128 0.13800877 0.12515967\n",
      " 0.13375078 0.14642455 0.14509706 0.14256731 0.1377583  0.14647464\n",
      " 0.16115216 0.17092048 0.16961803 0.181866   0.17257358 0.16904195\n",
      " 0.18149029 0.16385723 0.16105197 0.15757044 0.16568566 0.17232311\n",
      " 0.17392611 0.18407013 0.18146525 0.18169067 0.17873513 0.17715717\n",
      " 0.18827802 0.18249217 0.17051972 0.16320601 0.16363181 0.1636819\n",
      " 0.17092048 0.17204759 0.1636819  0.16588604 0.15769568 0.14875391\n",
      " 0.14444584 0.13918597 0.13720726 0.13259862 0.1323732  0.13119599\n",
      " 0.14201552 0.13978207 0.1387915  0.13868538]\n",
      "4 day output [[0.13913403]]\n",
      "5 day input [0.10339386 0.10567314 0.10507201 0.09823419 0.09041954 0.09164684\n",
      " 0.0977082  0.10016281 0.10038823 0.09650595 0.0878397  0.09014402\n",
      " 0.08681277 0.08969317 0.08090169 0.08583594 0.08806512 0.09129618\n",
      " 0.09031935 0.09009393 0.08683782 0.085335   0.09247339 0.09517846\n",
      " 0.09946149 0.10499687 0.10624922 0.10680025 0.10482154 0.10469631\n",
      " 0.1063995  0.10522229 0.11453976 0.10760175 0.10549781 0.10815279\n",
      " 0.11183469 0.1105072  0.1113087  0.10920476 0.1101315  0.10289292\n",
      " 0.10276769 0.10807765 0.10810269 0.11060739 0.11684408 0.12781465\n",
      " 0.13452724 0.13570445 0.13668128 0.13800877 0.12515967 0.13375078\n",
      " 0.14642455 0.14509706 0.14256731 0.1377583  0.14647464 0.16115216\n",
      " 0.17092048 0.16961803 0.181866   0.17257358 0.16904195 0.18149029\n",
      " 0.16385723 0.16105197 0.15757044 0.16568566 0.17232311 0.17392611\n",
      " 0.18407013 0.18146525 0.18169067 0.17873513 0.17715717 0.18827802\n",
      " 0.18249217 0.17051972 0.16320601 0.16363181 0.1636819  0.17092048\n",
      " 0.17204759 0.1636819  0.16588604 0.15769568 0.14875391 0.14444584\n",
      " 0.13918597 0.13720726 0.13259862 0.1323732  0.13119599 0.14201552\n",
      " 0.13978207 0.1387915  0.13868538 0.13913403]\n",
      "5 day output [[0.13990104]]\n",
      "6 day input [0.10567314 0.10507201 0.09823419 0.09041954 0.09164684 0.0977082\n",
      " 0.10016281 0.10038823 0.09650595 0.0878397  0.09014402 0.08681277\n",
      " 0.08969317 0.08090169 0.08583594 0.08806512 0.09129618 0.09031935\n",
      " 0.09009393 0.08683782 0.085335   0.09247339 0.09517846 0.09946149\n",
      " 0.10499687 0.10624922 0.10680025 0.10482154 0.10469631 0.1063995\n",
      " 0.10522229 0.11453976 0.10760175 0.10549781 0.10815279 0.11183469\n",
      " 0.1105072  0.1113087  0.10920476 0.1101315  0.10289292 0.10276769\n",
      " 0.10807765 0.10810269 0.11060739 0.11684408 0.12781465 0.13452724\n",
      " 0.13570445 0.13668128 0.13800877 0.12515967 0.13375078 0.14642455\n",
      " 0.14509706 0.14256731 0.1377583  0.14647464 0.16115216 0.17092048\n",
      " 0.16961803 0.181866   0.17257358 0.16904195 0.18149029 0.16385723\n",
      " 0.16105197 0.15757044 0.16568566 0.17232311 0.17392611 0.18407013\n",
      " 0.18146525 0.18169067 0.17873513 0.17715717 0.18827802 0.18249217\n",
      " 0.17051972 0.16320601 0.16363181 0.1636819  0.17092048 0.17204759\n",
      " 0.1636819  0.16588604 0.15769568 0.14875391 0.14444584 0.13918597\n",
      " 0.13720726 0.13259862 0.1323732  0.13119599 0.14201552 0.13978207\n",
      " 0.1387915  0.13868538 0.13913403 0.13990104]\n",
      "6 day output [[0.14083736]]\n",
      "7 day input [0.10507201 0.09823419 0.09041954 0.09164684 0.0977082  0.10016281\n",
      " 0.10038823 0.09650595 0.0878397  0.09014402 0.08681277 0.08969317\n",
      " 0.08090169 0.08583594 0.08806512 0.09129618 0.09031935 0.09009393\n",
      " 0.08683782 0.085335   0.09247339 0.09517846 0.09946149 0.10499687\n",
      " 0.10624922 0.10680025 0.10482154 0.10469631 0.1063995  0.10522229\n",
      " 0.11453976 0.10760175 0.10549781 0.10815279 0.11183469 0.1105072\n",
      " 0.1113087  0.10920476 0.1101315  0.10289292 0.10276769 0.10807765\n",
      " 0.10810269 0.11060739 0.11684408 0.12781465 0.13452724 0.13570445\n",
      " 0.13668128 0.13800877 0.12515967 0.13375078 0.14642455 0.14509706\n",
      " 0.14256731 0.1377583  0.14647464 0.16115216 0.17092048 0.16961803\n",
      " 0.181866   0.17257358 0.16904195 0.18149029 0.16385723 0.16105197\n",
      " 0.15757044 0.16568566 0.17232311 0.17392611 0.18407013 0.18146525\n",
      " 0.18169067 0.17873513 0.17715717 0.18827802 0.18249217 0.17051972\n",
      " 0.16320601 0.16363181 0.1636819  0.17092048 0.17204759 0.1636819\n",
      " 0.16588604 0.15769568 0.14875391 0.14444584 0.13918597 0.13720726\n",
      " 0.13259862 0.1323732  0.13119599 0.14201552 0.13978207 0.1387915\n",
      " 0.13868538 0.13913403 0.13990104 0.14083736]\n",
      "7 day output [[0.14185601]]\n",
      "8 day input [0.09823419 0.09041954 0.09164684 0.0977082  0.10016281 0.10038823\n",
      " 0.09650595 0.0878397  0.09014402 0.08681277 0.08969317 0.08090169\n",
      " 0.08583594 0.08806512 0.09129618 0.09031935 0.09009393 0.08683782\n",
      " 0.085335   0.09247339 0.09517846 0.09946149 0.10499687 0.10624922\n",
      " 0.10680025 0.10482154 0.10469631 0.1063995  0.10522229 0.11453976\n",
      " 0.10760175 0.10549781 0.10815279 0.11183469 0.1105072  0.1113087\n",
      " 0.10920476 0.1101315  0.10289292 0.10276769 0.10807765 0.10810269\n",
      " 0.11060739 0.11684408 0.12781465 0.13452724 0.13570445 0.13668128\n",
      " 0.13800877 0.12515967 0.13375078 0.14642455 0.14509706 0.14256731\n",
      " 0.1377583  0.14647464 0.16115216 0.17092048 0.16961803 0.181866\n",
      " 0.17257358 0.16904195 0.18149029 0.16385723 0.16105197 0.15757044\n",
      " 0.16568566 0.17232311 0.17392611 0.18407013 0.18146525 0.18169067\n",
      " 0.17873513 0.17715717 0.18827802 0.18249217 0.17051972 0.16320601\n",
      " 0.16363181 0.1636819  0.17092048 0.17204759 0.1636819  0.16588604\n",
      " 0.15769568 0.14875391 0.14444584 0.13918597 0.13720726 0.13259862\n",
      " 0.1323732  0.13119599 0.14201552 0.13978207 0.1387915  0.13868538\n",
      " 0.13913403 0.13990104 0.14083736 0.14185601]\n",
      "8 day output [[0.14290798]]\n",
      "9 day input [0.09041954 0.09164684 0.0977082  0.10016281 0.10038823 0.09650595\n",
      " 0.0878397  0.09014402 0.08681277 0.08969317 0.08090169 0.08583594\n",
      " 0.08806512 0.09129618 0.09031935 0.09009393 0.08683782 0.085335\n",
      " 0.09247339 0.09517846 0.09946149 0.10499687 0.10624922 0.10680025\n",
      " 0.10482154 0.10469631 0.1063995  0.10522229 0.11453976 0.10760175\n",
      " 0.10549781 0.10815279 0.11183469 0.1105072  0.1113087  0.10920476\n",
      " 0.1101315  0.10289292 0.10276769 0.10807765 0.10810269 0.11060739\n",
      " 0.11684408 0.12781465 0.13452724 0.13570445 0.13668128 0.13800877\n",
      " 0.12515967 0.13375078 0.14642455 0.14509706 0.14256731 0.1377583\n",
      " 0.14647464 0.16115216 0.17092048 0.16961803 0.181866   0.17257358\n",
      " 0.16904195 0.18149029 0.16385723 0.16105197 0.15757044 0.16568566\n",
      " 0.17232311 0.17392611 0.18407013 0.18146525 0.18169067 0.17873513\n",
      " 0.17715717 0.18827802 0.18249217 0.17051972 0.16320601 0.16363181\n",
      " 0.1636819  0.17092048 0.17204759 0.1636819  0.16588604 0.15769568\n",
      " 0.14875391 0.14444584 0.13918597 0.13720726 0.13259862 0.1323732\n",
      " 0.13119599 0.14201552 0.13978207 0.1387915  0.13868538 0.13913403\n",
      " 0.13990104 0.14083736 0.14185601 0.14290798]\n",
      "9 day output [[0.14396548]]\n",
      "10 day input [0.09164684 0.0977082  0.10016281 0.10038823 0.09650595 0.0878397\n",
      " 0.09014402 0.08681277 0.08969317 0.08090169 0.08583594 0.08806512\n",
      " 0.09129618 0.09031935 0.09009393 0.08683782 0.085335   0.09247339\n",
      " 0.09517846 0.09946149 0.10499687 0.10624922 0.10680025 0.10482154\n",
      " 0.10469631 0.1063995  0.10522229 0.11453976 0.10760175 0.10549781\n",
      " 0.10815279 0.11183469 0.1105072  0.1113087  0.10920476 0.1101315\n",
      " 0.10289292 0.10276769 0.10807765 0.10810269 0.11060739 0.11684408\n",
      " 0.12781465 0.13452724 0.13570445 0.13668128 0.13800877 0.12515967\n",
      " 0.13375078 0.14642455 0.14509706 0.14256731 0.1377583  0.14647464\n",
      " 0.16115216 0.17092048 0.16961803 0.181866   0.17257358 0.16904195\n",
      " 0.18149029 0.16385723 0.16105197 0.15757044 0.16568566 0.17232311\n",
      " 0.17392611 0.18407013 0.18146525 0.18169067 0.17873513 0.17715717\n",
      " 0.18827802 0.18249217 0.17051972 0.16320601 0.16363181 0.1636819\n",
      " 0.17092048 0.17204759 0.1636819  0.16588604 0.15769568 0.14875391\n",
      " 0.14444584 0.13918597 0.13720726 0.13259862 0.1323732  0.13119599\n",
      " 0.14201552 0.13978207 0.1387915  0.13868538 0.13913403 0.13990104\n",
      " 0.14083736 0.14185601 0.14290798 0.14396548]\n"
     ]
    },
    {
     "name": "stdout",
     "output_type": "stream",
     "text": [
      "10 day output [[0.14501178]]\n",
      "11 day input [0.0977082  0.10016281 0.10038823 0.09650595 0.0878397  0.09014402\n",
      " 0.08681277 0.08969317 0.08090169 0.08583594 0.08806512 0.09129618\n",
      " 0.09031935 0.09009393 0.08683782 0.085335   0.09247339 0.09517846\n",
      " 0.09946149 0.10499687 0.10624922 0.10680025 0.10482154 0.10469631\n",
      " 0.1063995  0.10522229 0.11453976 0.10760175 0.10549781 0.10815279\n",
      " 0.11183469 0.1105072  0.1113087  0.10920476 0.1101315  0.10289292\n",
      " 0.10276769 0.10807765 0.10810269 0.11060739 0.11684408 0.12781465\n",
      " 0.13452724 0.13570445 0.13668128 0.13800877 0.12515967 0.13375078\n",
      " 0.14642455 0.14509706 0.14256731 0.1377583  0.14647464 0.16115216\n",
      " 0.17092048 0.16961803 0.181866   0.17257358 0.16904195 0.18149029\n",
      " 0.16385723 0.16105197 0.15757044 0.16568566 0.17232311 0.17392611\n",
      " 0.18407013 0.18146525 0.18169067 0.17873513 0.17715717 0.18827802\n",
      " 0.18249217 0.17051972 0.16320601 0.16363181 0.1636819  0.17092048\n",
      " 0.17204759 0.1636819  0.16588604 0.15769568 0.14875391 0.14444584\n",
      " 0.13918597 0.13720726 0.13259862 0.1323732  0.13119599 0.14201552\n",
      " 0.13978207 0.1387915  0.13868538 0.13913403 0.13990104 0.14083736\n",
      " 0.14185601 0.14290798 0.14396548 0.14501178]\n",
      "11 day output [[0.14603601]]\n",
      "12 day input [0.10016281 0.10038823 0.09650595 0.0878397  0.09014402 0.08681277\n",
      " 0.08969317 0.08090169 0.08583594 0.08806512 0.09129618 0.09031935\n",
      " 0.09009393 0.08683782 0.085335   0.09247339 0.09517846 0.09946149\n",
      " 0.10499687 0.10624922 0.10680025 0.10482154 0.10469631 0.1063995\n",
      " 0.10522229 0.11453976 0.10760175 0.10549781 0.10815279 0.11183469\n",
      " 0.1105072  0.1113087  0.10920476 0.1101315  0.10289292 0.10276769\n",
      " 0.10807765 0.10810269 0.11060739 0.11684408 0.12781465 0.13452724\n",
      " 0.13570445 0.13668128 0.13800877 0.12515967 0.13375078 0.14642455\n",
      " 0.14509706 0.14256731 0.1377583  0.14647464 0.16115216 0.17092048\n",
      " 0.16961803 0.181866   0.17257358 0.16904195 0.18149029 0.16385723\n",
      " 0.16105197 0.15757044 0.16568566 0.17232311 0.17392611 0.18407013\n",
      " 0.18146525 0.18169067 0.17873513 0.17715717 0.18827802 0.18249217\n",
      " 0.17051972 0.16320601 0.16363181 0.1636819  0.17092048 0.17204759\n",
      " 0.1636819  0.16588604 0.15769568 0.14875391 0.14444584 0.13918597\n",
      " 0.13720726 0.13259862 0.1323732  0.13119599 0.14201552 0.13978207\n",
      " 0.1387915  0.13868538 0.13913403 0.13990104 0.14083736 0.14185601\n",
      " 0.14290798 0.14396548 0.14501178 0.14603601]\n",
      "12 day output [[0.1470305]]\n",
      "13 day input [0.10038823 0.09650595 0.0878397  0.09014402 0.08681277 0.08969317\n",
      " 0.08090169 0.08583594 0.08806512 0.09129618 0.09031935 0.09009393\n",
      " 0.08683782 0.085335   0.09247339 0.09517846 0.09946149 0.10499687\n",
      " 0.10624922 0.10680025 0.10482154 0.10469631 0.1063995  0.10522229\n",
      " 0.11453976 0.10760175 0.10549781 0.10815279 0.11183469 0.1105072\n",
      " 0.1113087  0.10920476 0.1101315  0.10289292 0.10276769 0.10807765\n",
      " 0.10810269 0.11060739 0.11684408 0.12781465 0.13452724 0.13570445\n",
      " 0.13668128 0.13800877 0.12515967 0.13375078 0.14642455 0.14509706\n",
      " 0.14256731 0.1377583  0.14647464 0.16115216 0.17092048 0.16961803\n",
      " 0.181866   0.17257358 0.16904195 0.18149029 0.16385723 0.16105197\n",
      " 0.15757044 0.16568566 0.17232311 0.17392611 0.18407013 0.18146525\n",
      " 0.18169067 0.17873513 0.17715717 0.18827802 0.18249217 0.17051972\n",
      " 0.16320601 0.16363181 0.1636819  0.17092048 0.17204759 0.1636819\n",
      " 0.16588604 0.15769568 0.14875391 0.14444584 0.13918597 0.13720726\n",
      " 0.13259862 0.1323732  0.13119599 0.14201552 0.13978207 0.1387915\n",
      " 0.13868538 0.13913403 0.13990104 0.14083736 0.14185601 0.14290798\n",
      " 0.14396548 0.14501178 0.14603601 0.1470305 ]\n",
      "13 day output [[0.14798991]]\n",
      "14 day input [0.09650595 0.0878397  0.09014402 0.08681277 0.08969317 0.08090169\n",
      " 0.08583594 0.08806512 0.09129618 0.09031935 0.09009393 0.08683782\n",
      " 0.085335   0.09247339 0.09517846 0.09946149 0.10499687 0.10624922\n",
      " 0.10680025 0.10482154 0.10469631 0.1063995  0.10522229 0.11453976\n",
      " 0.10760175 0.10549781 0.10815279 0.11183469 0.1105072  0.1113087\n",
      " 0.10920476 0.1101315  0.10289292 0.10276769 0.10807765 0.10810269\n",
      " 0.11060739 0.11684408 0.12781465 0.13452724 0.13570445 0.13668128\n",
      " 0.13800877 0.12515967 0.13375078 0.14642455 0.14509706 0.14256731\n",
      " 0.1377583  0.14647464 0.16115216 0.17092048 0.16961803 0.181866\n",
      " 0.17257358 0.16904195 0.18149029 0.16385723 0.16105197 0.15757044\n",
      " 0.16568566 0.17232311 0.17392611 0.18407013 0.18146525 0.18169067\n",
      " 0.17873513 0.17715717 0.18827802 0.18249217 0.17051972 0.16320601\n",
      " 0.16363181 0.1636819  0.17092048 0.17204759 0.1636819  0.16588604\n",
      " 0.15769568 0.14875391 0.14444584 0.13918597 0.13720726 0.13259862\n",
      " 0.1323732  0.13119599 0.14201552 0.13978207 0.1387915  0.13868538\n",
      " 0.13913403 0.13990104 0.14083736 0.14185601 0.14290798 0.14396548\n",
      " 0.14501178 0.14603601 0.1470305  0.14798991]\n",
      "14 day output [[0.14891075]]\n",
      "15 day input [0.0878397  0.09014402 0.08681277 0.08969317 0.08090169 0.08583594\n",
      " 0.08806512 0.09129618 0.09031935 0.09009393 0.08683782 0.085335\n",
      " 0.09247339 0.09517846 0.09946149 0.10499687 0.10624922 0.10680025\n",
      " 0.10482154 0.10469631 0.1063995  0.10522229 0.11453976 0.10760175\n",
      " 0.10549781 0.10815279 0.11183469 0.1105072  0.1113087  0.10920476\n",
      " 0.1101315  0.10289292 0.10276769 0.10807765 0.10810269 0.11060739\n",
      " 0.11684408 0.12781465 0.13452724 0.13570445 0.13668128 0.13800877\n",
      " 0.12515967 0.13375078 0.14642455 0.14509706 0.14256731 0.1377583\n",
      " 0.14647464 0.16115216 0.17092048 0.16961803 0.181866   0.17257358\n",
      " 0.16904195 0.18149029 0.16385723 0.16105197 0.15757044 0.16568566\n",
      " 0.17232311 0.17392611 0.18407013 0.18146525 0.18169067 0.17873513\n",
      " 0.17715717 0.18827802 0.18249217 0.17051972 0.16320601 0.16363181\n",
      " 0.1636819  0.17092048 0.17204759 0.1636819  0.16588604 0.15769568\n",
      " 0.14875391 0.14444584 0.13918597 0.13720726 0.13259862 0.1323732\n",
      " 0.13119599 0.14201552 0.13978207 0.1387915  0.13868538 0.13913403\n",
      " 0.13990104 0.14083736 0.14185601 0.14290798 0.14396548 0.14501178\n",
      " 0.14603601 0.1470305  0.14798991 0.14891075]\n",
      "15 day output [[0.14979106]]\n",
      "16 day input [0.09014402 0.08681277 0.08969317 0.08090169 0.08583594 0.08806512\n",
      " 0.09129618 0.09031935 0.09009393 0.08683782 0.085335   0.09247339\n",
      " 0.09517846 0.09946149 0.10499687 0.10624922 0.10680025 0.10482154\n",
      " 0.10469631 0.1063995  0.10522229 0.11453976 0.10760175 0.10549781\n",
      " 0.10815279 0.11183469 0.1105072  0.1113087  0.10920476 0.1101315\n",
      " 0.10289292 0.10276769 0.10807765 0.10810269 0.11060739 0.11684408\n",
      " 0.12781465 0.13452724 0.13570445 0.13668128 0.13800877 0.12515967\n",
      " 0.13375078 0.14642455 0.14509706 0.14256731 0.1377583  0.14647464\n",
      " 0.16115216 0.17092048 0.16961803 0.181866   0.17257358 0.16904195\n",
      " 0.18149029 0.16385723 0.16105197 0.15757044 0.16568566 0.17232311\n",
      " 0.17392611 0.18407013 0.18146525 0.18169067 0.17873513 0.17715717\n",
      " 0.18827802 0.18249217 0.17051972 0.16320601 0.16363181 0.1636819\n",
      " 0.17092048 0.17204759 0.1636819  0.16588604 0.15769568 0.14875391\n",
      " 0.14444584 0.13918597 0.13720726 0.13259862 0.1323732  0.13119599\n",
      " 0.14201552 0.13978207 0.1387915  0.13868538 0.13913403 0.13990104\n",
      " 0.14083736 0.14185601 0.14290798 0.14396548 0.14501178 0.14603601\n",
      " 0.1470305  0.14798991 0.14891075 0.14979106]\n",
      "16 day output [[0.15063041]]\n",
      "17 day input [0.08681277 0.08969317 0.08090169 0.08583594 0.08806512 0.09129618\n",
      " 0.09031935 0.09009393 0.08683782 0.085335   0.09247339 0.09517846\n",
      " 0.09946149 0.10499687 0.10624922 0.10680025 0.10482154 0.10469631\n",
      " 0.1063995  0.10522229 0.11453976 0.10760175 0.10549781 0.10815279\n",
      " 0.11183469 0.1105072  0.1113087  0.10920476 0.1101315  0.10289292\n",
      " 0.10276769 0.10807765 0.10810269 0.11060739 0.11684408 0.12781465\n",
      " 0.13452724 0.13570445 0.13668128 0.13800877 0.12515967 0.13375078\n",
      " 0.14642455 0.14509706 0.14256731 0.1377583  0.14647464 0.16115216\n",
      " 0.17092048 0.16961803 0.181866   0.17257358 0.16904195 0.18149029\n",
      " 0.16385723 0.16105197 0.15757044 0.16568566 0.17232311 0.17392611\n",
      " 0.18407013 0.18146525 0.18169067 0.17873513 0.17715717 0.18827802\n",
      " 0.18249217 0.17051972 0.16320601 0.16363181 0.1636819  0.17092048\n",
      " 0.17204759 0.1636819  0.16588604 0.15769568 0.14875391 0.14444584\n",
      " 0.13918597 0.13720726 0.13259862 0.1323732  0.13119599 0.14201552\n",
      " 0.13978207 0.1387915  0.13868538 0.13913403 0.13990104 0.14083736\n",
      " 0.14185601 0.14290798 0.14396548 0.14501178 0.14603601 0.1470305\n",
      " 0.14798991 0.14891075 0.14979106 0.15063041]\n",
      "17 day output [[0.15142953]]\n",
      "18 day input [0.08969317 0.08090169 0.08583594 0.08806512 0.09129618 0.09031935\n",
      " 0.09009393 0.08683782 0.085335   0.09247339 0.09517846 0.09946149\n",
      " 0.10499687 0.10624922 0.10680025 0.10482154 0.10469631 0.1063995\n",
      " 0.10522229 0.11453976 0.10760175 0.10549781 0.10815279 0.11183469\n",
      " 0.1105072  0.1113087  0.10920476 0.1101315  0.10289292 0.10276769\n",
      " 0.10807765 0.10810269 0.11060739 0.11684408 0.12781465 0.13452724\n",
      " 0.13570445 0.13668128 0.13800877 0.12515967 0.13375078 0.14642455\n",
      " 0.14509706 0.14256731 0.1377583  0.14647464 0.16115216 0.17092048\n",
      " 0.16961803 0.181866   0.17257358 0.16904195 0.18149029 0.16385723\n",
      " 0.16105197 0.15757044 0.16568566 0.17232311 0.17392611 0.18407013\n",
      " 0.18146525 0.18169067 0.17873513 0.17715717 0.18827802 0.18249217\n",
      " 0.17051972 0.16320601 0.16363181 0.1636819  0.17092048 0.17204759\n",
      " 0.1636819  0.16588604 0.15769568 0.14875391 0.14444584 0.13918597\n",
      " 0.13720726 0.13259862 0.1323732  0.13119599 0.14201552 0.13978207\n",
      " 0.1387915  0.13868538 0.13913403 0.13990104 0.14083736 0.14185601\n",
      " 0.14290798 0.14396548 0.14501178 0.14603601 0.1470305  0.14798991\n",
      " 0.14891075 0.14979106 0.15063041 0.15142953]\n",
      "18 day output [[0.15219013]]\n",
      "19 day input [0.08090169 0.08583594 0.08806512 0.09129618 0.09031935 0.09009393\n",
      " 0.08683782 0.085335   0.09247339 0.09517846 0.09946149 0.10499687\n",
      " 0.10624922 0.10680025 0.10482154 0.10469631 0.1063995  0.10522229\n",
      " 0.11453976 0.10760175 0.10549781 0.10815279 0.11183469 0.1105072\n",
      " 0.1113087  0.10920476 0.1101315  0.10289292 0.10276769 0.10807765\n",
      " 0.10810269 0.11060739 0.11684408 0.12781465 0.13452724 0.13570445\n",
      " 0.13668128 0.13800877 0.12515967 0.13375078 0.14642455 0.14509706\n",
      " 0.14256731 0.1377583  0.14647464 0.16115216 0.17092048 0.16961803\n",
      " 0.181866   0.17257358 0.16904195 0.18149029 0.16385723 0.16105197\n",
      " 0.15757044 0.16568566 0.17232311 0.17392611 0.18407013 0.18146525\n",
      " 0.18169067 0.17873513 0.17715717 0.18827802 0.18249217 0.17051972\n",
      " 0.16320601 0.16363181 0.1636819  0.17092048 0.17204759 0.1636819\n",
      " 0.16588604 0.15769568 0.14875391 0.14444584 0.13918597 0.13720726\n",
      " 0.13259862 0.1323732  0.13119599 0.14201552 0.13978207 0.1387915\n",
      " 0.13868538 0.13913403 0.13990104 0.14083736 0.14185601 0.14290798\n",
      " 0.14396548 0.14501178 0.14603601 0.1470305  0.14798991 0.14891075\n",
      " 0.14979106 0.15063041 0.15142953 0.15219013]\n",
      "19 day output [[0.15291469]]\n",
      "20 day input [0.08583594 0.08806512 0.09129618 0.09031935 0.09009393 0.08683782\n",
      " 0.085335   0.09247339 0.09517846 0.09946149 0.10499687 0.10624922\n",
      " 0.10680025 0.10482154 0.10469631 0.1063995  0.10522229 0.11453976\n",
      " 0.10760175 0.10549781 0.10815279 0.11183469 0.1105072  0.1113087\n",
      " 0.10920476 0.1101315  0.10289292 0.10276769 0.10807765 0.10810269\n",
      " 0.11060739 0.11684408 0.12781465 0.13452724 0.13570445 0.13668128\n",
      " 0.13800877 0.12515967 0.13375078 0.14642455 0.14509706 0.14256731\n",
      " 0.1377583  0.14647464 0.16115216 0.17092048 0.16961803 0.181866\n",
      " 0.17257358 0.16904195 0.18149029 0.16385723 0.16105197 0.15757044\n",
      " 0.16568566 0.17232311 0.17392611 0.18407013 0.18146525 0.18169067\n",
      " 0.17873513 0.17715717 0.18827802 0.18249217 0.17051972 0.16320601\n",
      " 0.16363181 0.1636819  0.17092048 0.17204759 0.1636819  0.16588604\n",
      " 0.15769568 0.14875391 0.14444584 0.13918597 0.13720726 0.13259862\n",
      " 0.1323732  0.13119599 0.14201552 0.13978207 0.1387915  0.13868538\n",
      " 0.13913403 0.13990104 0.14083736 0.14185601 0.14290798 0.14396548\n",
      " 0.14501178 0.14603601 0.1470305  0.14798991 0.14891075 0.14979106\n",
      " 0.15063041 0.15142953 0.15219013 0.15291469]\n"
     ]
    },
    {
     "name": "stdout",
     "output_type": "stream",
     "text": [
      "20 day output [[0.15360624]]\n",
      "21 day input [0.08806512 0.09129618 0.09031935 0.09009393 0.08683782 0.085335\n",
      " 0.09247339 0.09517846 0.09946149 0.10499687 0.10624922 0.10680025\n",
      " 0.10482154 0.10469631 0.1063995  0.10522229 0.11453976 0.10760175\n",
      " 0.10549781 0.10815279 0.11183469 0.1105072  0.1113087  0.10920476\n",
      " 0.1101315  0.10289292 0.10276769 0.10807765 0.10810269 0.11060739\n",
      " 0.11684408 0.12781465 0.13452724 0.13570445 0.13668128 0.13800877\n",
      " 0.12515967 0.13375078 0.14642455 0.14509706 0.14256731 0.1377583\n",
      " 0.14647464 0.16115216 0.17092048 0.16961803 0.181866   0.17257358\n",
      " 0.16904195 0.18149029 0.16385723 0.16105197 0.15757044 0.16568566\n",
      " 0.17232311 0.17392611 0.18407013 0.18146525 0.18169067 0.17873513\n",
      " 0.17715717 0.18827802 0.18249217 0.17051972 0.16320601 0.16363181\n",
      " 0.1636819  0.17092048 0.17204759 0.1636819  0.16588604 0.15769568\n",
      " 0.14875391 0.14444584 0.13918597 0.13720726 0.13259862 0.1323732\n",
      " 0.13119599 0.14201552 0.13978207 0.1387915  0.13868538 0.13913403\n",
      " 0.13990104 0.14083736 0.14185601 0.14290798 0.14396548 0.14501178\n",
      " 0.14603601 0.1470305  0.14798991 0.14891075 0.14979106 0.15063041\n",
      " 0.15142953 0.15219013 0.15291469 0.15360624]\n",
      "21 day output [[0.15426794]]\n",
      "22 day input [0.09129618 0.09031935 0.09009393 0.08683782 0.085335   0.09247339\n",
      " 0.09517846 0.09946149 0.10499687 0.10624922 0.10680025 0.10482154\n",
      " 0.10469631 0.1063995  0.10522229 0.11453976 0.10760175 0.10549781\n",
      " 0.10815279 0.11183469 0.1105072  0.1113087  0.10920476 0.1101315\n",
      " 0.10289292 0.10276769 0.10807765 0.10810269 0.11060739 0.11684408\n",
      " 0.12781465 0.13452724 0.13570445 0.13668128 0.13800877 0.12515967\n",
      " 0.13375078 0.14642455 0.14509706 0.14256731 0.1377583  0.14647464\n",
      " 0.16115216 0.17092048 0.16961803 0.181866   0.17257358 0.16904195\n",
      " 0.18149029 0.16385723 0.16105197 0.15757044 0.16568566 0.17232311\n",
      " 0.17392611 0.18407013 0.18146525 0.18169067 0.17873513 0.17715717\n",
      " 0.18827802 0.18249217 0.17051972 0.16320601 0.16363181 0.1636819\n",
      " 0.17092048 0.17204759 0.1636819  0.16588604 0.15769568 0.14875391\n",
      " 0.14444584 0.13918597 0.13720726 0.13259862 0.1323732  0.13119599\n",
      " 0.14201552 0.13978207 0.1387915  0.13868538 0.13913403 0.13990104\n",
      " 0.14083736 0.14185601 0.14290798 0.14396548 0.14501178 0.14603601\n",
      " 0.1470305  0.14798991 0.14891075 0.14979106 0.15063041 0.15142953\n",
      " 0.15219013 0.15291469 0.15360624 0.15426794]\n",
      "22 day output [[0.15490344]]\n",
      "23 day input [0.09031935 0.09009393 0.08683782 0.085335   0.09247339 0.09517846\n",
      " 0.09946149 0.10499687 0.10624922 0.10680025 0.10482154 0.10469631\n",
      " 0.1063995  0.10522229 0.11453976 0.10760175 0.10549781 0.10815279\n",
      " 0.11183469 0.1105072  0.1113087  0.10920476 0.1101315  0.10289292\n",
      " 0.10276769 0.10807765 0.10810269 0.11060739 0.11684408 0.12781465\n",
      " 0.13452724 0.13570445 0.13668128 0.13800877 0.12515967 0.13375078\n",
      " 0.14642455 0.14509706 0.14256731 0.1377583  0.14647464 0.16115216\n",
      " 0.17092048 0.16961803 0.181866   0.17257358 0.16904195 0.18149029\n",
      " 0.16385723 0.16105197 0.15757044 0.16568566 0.17232311 0.17392611\n",
      " 0.18407013 0.18146525 0.18169067 0.17873513 0.17715717 0.18827802\n",
      " 0.18249217 0.17051972 0.16320601 0.16363181 0.1636819  0.17092048\n",
      " 0.17204759 0.1636819  0.16588604 0.15769568 0.14875391 0.14444584\n",
      " 0.13918597 0.13720726 0.13259862 0.1323732  0.13119599 0.14201552\n",
      " 0.13978207 0.1387915  0.13868538 0.13913403 0.13990104 0.14083736\n",
      " 0.14185601 0.14290798 0.14396548 0.14501178 0.14603601 0.1470305\n",
      " 0.14798991 0.14891075 0.14979106 0.15063041 0.15142953 0.15219013\n",
      " 0.15291469 0.15360624 0.15426794 0.15490344]\n",
      "23 day output [[0.15551609]]\n",
      "24 day input [0.09009393 0.08683782 0.085335   0.09247339 0.09517846 0.09946149\n",
      " 0.10499687 0.10624922 0.10680025 0.10482154 0.10469631 0.1063995\n",
      " 0.10522229 0.11453976 0.10760175 0.10549781 0.10815279 0.11183469\n",
      " 0.1105072  0.1113087  0.10920476 0.1101315  0.10289292 0.10276769\n",
      " 0.10807765 0.10810269 0.11060739 0.11684408 0.12781465 0.13452724\n",
      " 0.13570445 0.13668128 0.13800877 0.12515967 0.13375078 0.14642455\n",
      " 0.14509706 0.14256731 0.1377583  0.14647464 0.16115216 0.17092048\n",
      " 0.16961803 0.181866   0.17257358 0.16904195 0.18149029 0.16385723\n",
      " 0.16105197 0.15757044 0.16568566 0.17232311 0.17392611 0.18407013\n",
      " 0.18146525 0.18169067 0.17873513 0.17715717 0.18827802 0.18249217\n",
      " 0.17051972 0.16320601 0.16363181 0.1636819  0.17092048 0.17204759\n",
      " 0.1636819  0.16588604 0.15769568 0.14875391 0.14444584 0.13918597\n",
      " 0.13720726 0.13259862 0.1323732  0.13119599 0.14201552 0.13978207\n",
      " 0.1387915  0.13868538 0.13913403 0.13990104 0.14083736 0.14185601\n",
      " 0.14290798 0.14396548 0.14501178 0.14603601 0.1470305  0.14798991\n",
      " 0.14891075 0.14979106 0.15063041 0.15142953 0.15219013 0.15291469\n",
      " 0.15360624 0.15426794 0.15490344 0.15551609]\n",
      "24 day output [[0.15610921]]\n",
      "25 day input [0.08683782 0.085335   0.09247339 0.09517846 0.09946149 0.10499687\n",
      " 0.10624922 0.10680025 0.10482154 0.10469631 0.1063995  0.10522229\n",
      " 0.11453976 0.10760175 0.10549781 0.10815279 0.11183469 0.1105072\n",
      " 0.1113087  0.10920476 0.1101315  0.10289292 0.10276769 0.10807765\n",
      " 0.10810269 0.11060739 0.11684408 0.12781465 0.13452724 0.13570445\n",
      " 0.13668128 0.13800877 0.12515967 0.13375078 0.14642455 0.14509706\n",
      " 0.14256731 0.1377583  0.14647464 0.16115216 0.17092048 0.16961803\n",
      " 0.181866   0.17257358 0.16904195 0.18149029 0.16385723 0.16105197\n",
      " 0.15757044 0.16568566 0.17232311 0.17392611 0.18407013 0.18146525\n",
      " 0.18169067 0.17873513 0.17715717 0.18827802 0.18249217 0.17051972\n",
      " 0.16320601 0.16363181 0.1636819  0.17092048 0.17204759 0.1636819\n",
      " 0.16588604 0.15769568 0.14875391 0.14444584 0.13918597 0.13720726\n",
      " 0.13259862 0.1323732  0.13119599 0.14201552 0.13978207 0.1387915\n",
      " 0.13868538 0.13913403 0.13990104 0.14083736 0.14185601 0.14290798\n",
      " 0.14396548 0.14501178 0.14603601 0.1470305  0.14798991 0.14891075\n",
      " 0.14979106 0.15063041 0.15142953 0.15219013 0.15291469 0.15360624\n",
      " 0.15426794 0.15490344 0.15551609 0.15610921]\n",
      "25 day output [[0.15668602]]\n",
      "26 day input [0.085335   0.09247339 0.09517846 0.09946149 0.10499687 0.10624922\n",
      " 0.10680025 0.10482154 0.10469631 0.1063995  0.10522229 0.11453976\n",
      " 0.10760175 0.10549781 0.10815279 0.11183469 0.1105072  0.1113087\n",
      " 0.10920476 0.1101315  0.10289292 0.10276769 0.10807765 0.10810269\n",
      " 0.11060739 0.11684408 0.12781465 0.13452724 0.13570445 0.13668128\n",
      " 0.13800877 0.12515967 0.13375078 0.14642455 0.14509706 0.14256731\n",
      " 0.1377583  0.14647464 0.16115216 0.17092048 0.16961803 0.181866\n",
      " 0.17257358 0.16904195 0.18149029 0.16385723 0.16105197 0.15757044\n",
      " 0.16568566 0.17232311 0.17392611 0.18407013 0.18146525 0.18169067\n",
      " 0.17873513 0.17715717 0.18827802 0.18249217 0.17051972 0.16320601\n",
      " 0.16363181 0.1636819  0.17092048 0.17204759 0.1636819  0.16588604\n",
      " 0.15769568 0.14875391 0.14444584 0.13918597 0.13720726 0.13259862\n",
      " 0.1323732  0.13119599 0.14201552 0.13978207 0.1387915  0.13868538\n",
      " 0.13913403 0.13990104 0.14083736 0.14185601 0.14290798 0.14396548\n",
      " 0.14501178 0.14603601 0.1470305  0.14798991 0.14891075 0.14979106\n",
      " 0.15063041 0.15142953 0.15219013 0.15291469 0.15360624 0.15426794\n",
      " 0.15490344 0.15551609 0.15610921 0.15668602]\n",
      "26 day output [[0.15724938]]\n",
      "27 day input [0.09247339 0.09517846 0.09946149 0.10499687 0.10624922 0.10680025\n",
      " 0.10482154 0.10469631 0.1063995  0.10522229 0.11453976 0.10760175\n",
      " 0.10549781 0.10815279 0.11183469 0.1105072  0.1113087  0.10920476\n",
      " 0.1101315  0.10289292 0.10276769 0.10807765 0.10810269 0.11060739\n",
      " 0.11684408 0.12781465 0.13452724 0.13570445 0.13668128 0.13800877\n",
      " 0.12515967 0.13375078 0.14642455 0.14509706 0.14256731 0.1377583\n",
      " 0.14647464 0.16115216 0.17092048 0.16961803 0.181866   0.17257358\n",
      " 0.16904195 0.18149029 0.16385723 0.16105197 0.15757044 0.16568566\n",
      " 0.17232311 0.17392611 0.18407013 0.18146525 0.18169067 0.17873513\n",
      " 0.17715717 0.18827802 0.18249217 0.17051972 0.16320601 0.16363181\n",
      " 0.1636819  0.17092048 0.17204759 0.1636819  0.16588604 0.15769568\n",
      " 0.14875391 0.14444584 0.13918597 0.13720726 0.13259862 0.1323732\n",
      " 0.13119599 0.14201552 0.13978207 0.1387915  0.13868538 0.13913403\n",
      " 0.13990104 0.14083736 0.14185601 0.14290798 0.14396548 0.14501178\n",
      " 0.14603601 0.1470305  0.14798991 0.14891075 0.14979106 0.15063041\n",
      " 0.15142953 0.15219013 0.15291469 0.15360624 0.15426794 0.15490344\n",
      " 0.15551609 0.15610921 0.15668602 0.15724938]\n",
      "27 day output [[0.15780197]]\n",
      "28 day input [0.09517846 0.09946149 0.10499687 0.10624922 0.10680025 0.10482154\n",
      " 0.10469631 0.1063995  0.10522229 0.11453976 0.10760175 0.10549781\n",
      " 0.10815279 0.11183469 0.1105072  0.1113087  0.10920476 0.1101315\n",
      " 0.10289292 0.10276769 0.10807765 0.10810269 0.11060739 0.11684408\n",
      " 0.12781465 0.13452724 0.13570445 0.13668128 0.13800877 0.12515967\n",
      " 0.13375078 0.14642455 0.14509706 0.14256731 0.1377583  0.14647464\n",
      " 0.16115216 0.17092048 0.16961803 0.181866   0.17257358 0.16904195\n",
      " 0.18149029 0.16385723 0.16105197 0.15757044 0.16568566 0.17232311\n",
      " 0.17392611 0.18407013 0.18146525 0.18169067 0.17873513 0.17715717\n",
      " 0.18827802 0.18249217 0.17051972 0.16320601 0.16363181 0.1636819\n",
      " 0.17092048 0.17204759 0.1636819  0.16588604 0.15769568 0.14875391\n",
      " 0.14444584 0.13918597 0.13720726 0.13259862 0.1323732  0.13119599\n",
      " 0.14201552 0.13978207 0.1387915  0.13868538 0.13913403 0.13990104\n",
      " 0.14083736 0.14185601 0.14290798 0.14396548 0.14501178 0.14603601\n",
      " 0.1470305  0.14798991 0.14891075 0.14979106 0.15063041 0.15142953\n",
      " 0.15219013 0.15291469 0.15360624 0.15426794 0.15490344 0.15551609\n",
      " 0.15610921 0.15668602 0.15724938 0.15780197]\n",
      "28 day output [[0.15834595]]\n",
      "29 day input [0.09946149 0.10499687 0.10624922 0.10680025 0.10482154 0.10469631\n",
      " 0.1063995  0.10522229 0.11453976 0.10760175 0.10549781 0.10815279\n",
      " 0.11183469 0.1105072  0.1113087  0.10920476 0.1101315  0.10289292\n",
      " 0.10276769 0.10807765 0.10810269 0.11060739 0.11684408 0.12781465\n",
      " 0.13452724 0.13570445 0.13668128 0.13800877 0.12515967 0.13375078\n",
      " 0.14642455 0.14509706 0.14256731 0.1377583  0.14647464 0.16115216\n",
      " 0.17092048 0.16961803 0.181866   0.17257358 0.16904195 0.18149029\n",
      " 0.16385723 0.16105197 0.15757044 0.16568566 0.17232311 0.17392611\n",
      " 0.18407013 0.18146525 0.18169067 0.17873513 0.17715717 0.18827802\n",
      " 0.18249217 0.17051972 0.16320601 0.16363181 0.1636819  0.17092048\n",
      " 0.17204759 0.1636819  0.16588604 0.15769568 0.14875391 0.14444584\n",
      " 0.13918597 0.13720726 0.13259862 0.1323732  0.13119599 0.14201552\n",
      " 0.13978207 0.1387915  0.13868538 0.13913403 0.13990104 0.14083736\n",
      " 0.14185601 0.14290798 0.14396548 0.14501178 0.14603601 0.1470305\n",
      " 0.14798991 0.14891075 0.14979106 0.15063041 0.15142953 0.15219013\n",
      " 0.15291469 0.15360624 0.15426794 0.15490344 0.15551609 0.15610921\n",
      " 0.15668602 0.15724938 0.15780197 0.15834595]\n",
      "29 day output [[0.15888335]]\n",
      "[[0.1420155167579651], [0.13978207111358643], [0.1387915015220642], [0.13868537545204163], [0.13913403451442719], [0.1399010419845581], [0.14083735644817352], [0.14185601472854614], [0.142907977104187], [0.143965482711792], [0.1450117826461792], [0.14603601396083832], [0.14703050255775452], [0.1479899138212204], [0.1489107459783554], [0.14979106187820435], [0.1506304144859314], [0.15142953395843506], [0.15219013392925262], [0.15291468799114227], [0.15360623598098755], [0.15426793694496155], [0.15490344166755676], [0.15551608800888062], [0.15610921382904053], [0.15668602287769318], [0.15724937617778778], [0.15780197083950043], [0.15834595263004303], [0.15888334810733795]]\n"
     ]
    }
   ],
   "source": [
    "# Demonstrate prediction for next 30 days\n",
    "from numpy import array\n",
    "\n",
    "lst_output=[]\n",
    "n_steps=100\n",
    "i=0\n",
    "while(i<30):\n",
    "    \n",
    "    if(len(temp_input)>100):\n",
    "        #print(temp_input)\n",
    "        x_input=np.array(temp_input[1:])\n",
    "        print(\"{} day input {}\".format(i,x_input))\n",
    "        x_input=x_input.reshape(1,-1)\n",
    "        x_input = x_input.reshape((1, n_steps, 1))\n",
    "        #print(x_input)\n",
    "        yhat = model.predict(x_input, verbose=0)\n",
    "        print(\"{} day output {}\".format(i,yhat))\n",
    "        temp_input.extend(yhat[0].tolist())\n",
    "        temp_input=temp_input[1:]\n",
    "        #print(temp_input)\n",
    "        lst_output.extend(yhat.tolist())\n",
    "        i=i+1\n",
    "    else:\n",
    "        x_input = x_input.reshape((1, n_steps,1))\n",
    "        yhat = model.predict(x_input, verbose=0)\n",
    "        print(yhat[0])\n",
    "        temp_input.extend(yhat[0].tolist())\n",
    "        print(len(temp_input))\n",
    "        lst_output.extend(yhat.tolist())\n",
    "        i=i+1\n",
    "    \n",
    "\n",
    "print(lst_output)"
   ]
  },
  {
   "cell_type": "code",
   "execution_count": 62,
   "metadata": {},
   "outputs": [],
   "source": [
    "day_new=np.arange(1,101)\n",
    "day_pred=np.arange(101,131)"
   ]
  },
  {
   "cell_type": "code",
   "execution_count": 63,
   "metadata": {},
   "outputs": [],
   "source": [
    "import matplotlib.pyplot as plt"
   ]
  },
  {
   "cell_type": "code",
   "execution_count": 64,
   "metadata": {},
   "outputs": [
    {
     "data": {
      "text/plain": [
       "1259"
      ]
     },
     "execution_count": 64,
     "metadata": {},
     "output_type": "execute_result"
    }
   ],
   "source": [
    "len(df1)"
   ]
  },
  {
   "cell_type": "code",
   "execution_count": 66,
   "metadata": {},
   "outputs": [
    {
     "data": {
      "image/png": "[encoded data removed]",
      "text/plain": [
       "<Figure size 1080x432 with 1 Axes>"
      ]
     },
     "metadata": {
      "needs_background": "light"
     },
     "output_type": "display_data"
    }
   ],
   "source": [
    "plt.figure(figsize=(15,6))\n",
    "plt.plot(day_new,scaler.inverse_transform(df1[1159:]),'b', label='Last 10 Days Data')\n",
    "plt.plot(day_pred,scaler.inverse_transform(lst_output),'g', label='Next 30 Days Predicted Data')\n",
    "leg = plt.legend();\n",
    "plt.show()"
   ]
  },
  {
   "cell_type": "code",
   "execution_count": 67,
   "metadata": {},
   "outputs": [
    {
     "data": {
      "text/plain": [
       "[<matplotlib.lines.Line2D at 0x1f36fb54970>]"
      ]
     },
     "execution_count": 67,
     "metadata": {},
     "output_type": "execute_result"
    },
    {
     "data": {
      "image/png": "[encoded data removed]",
      "text/plain": [
       "<Figure size 432x288 with 1 Axes>"
      ]
     },
     "metadata": {
      "needs_background": "light"
     },
     "output_type": "display_data"
    }
   ],
   "source": [
    "df3=df1.tolist()\n",
    "df3.extend(lst_output)\n",
    "plt.plot(df3[1200:])"
   ]
  },
  {
   "cell_type": "code",
   "execution_count": 395,
   "metadata": {},
   "outputs": [],
   "source": [
    "df3=scaler.inverse_transform(df3).tolist()"
   ]
  },
  {
   "cell_type": "code",
   "execution_count": 396,
   "metadata": {},
   "outputs": [
    {
     "data": {
      "text/plain": [
       "[<matplotlib.lines.Line2D at 0x2d1a904c470>]"
      ]
     },
     "execution_count": 396,
     "metadata": {},
     "output_type": "execute_result"
    },
    {
     "data": {
      "image/png": "[encoded data removed]",
      "text/plain": [
       "<Figure size 432x288 with 1 Axes>"
      ]
     },
     "metadata": {
      "needs_background": "light"
     },
     "output_type": "display_data"
    }
   ],
   "source": [
    "plt.plot(df3)"
   ]
  },
  {
   "cell_type": "code",
   "execution_count": null,
   "metadata": {},
   "outputs": [],
   "source": []
  }
 ],
 "metadata": {
  "kernelspec": {
   "display_name": "Python 3 (ipykernel)",
   "language": "python",
   "name": "python3"
  },
  "language_info": {
   "codemirror_mode": {
    "name": "ipython",
    "version": 3
   },
   "file_extension": ".py",
   "mimetype": "text/x-python",
   "name": "python",
   "nbconvert_exporter": "python",
   "pygments_lexer": "ipython3",
   "version": "3.9.7"
  }
 },
 "nbformat": 4,
 "nbformat_minor": 2
}
